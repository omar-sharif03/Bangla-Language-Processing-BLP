{
  "nbformat": 4,
  "nbformat_minor": 0,
  "metadata": {
    "accelerator": "GPU",
    "colab": {
      "name": "ML-Algorithms-NAACL-(Emotion-Data)",
      "provenance": [],
      "collapsed_sections": [],
      "toc_visible": true,
      "mount_file_id": "1fgYjU6WFXvOS_NVLDnfXdIXxegSWzJmr",
      "authorship_tag": "ABX9TyOFO4qdVfrhPY1aibvINwNE",
      "include_colab_link": true
    },
    "kernelspec": {
      "display_name": "Python 3",
      "name": "python3"
    }
  },
  "cells": [
    {
      "cell_type": "markdown",
      "metadata": {
        "id": "view-in-github",
        "colab_type": "text"
      },
      "source": [
        "<a href=\"https://colab.research.google.com/github/omar-sharif03/Bangla-Language-Processing-BLP/blob/master/ML_Algorithms_NAACL_(Emotion_Data).ipynb\" target=\"_parent\"><img src=\"https://colab.research.google.com/assets/colab-badge.svg\" alt=\"Open In Colab\"/></a>"
      ]
    },
    {
      "cell_type": "code",
      "metadata": {
        "colab": {
          "base_uri": "https://localhost:8080/"
        },
        "id": "0Qq-yY_BZwlW",
        "outputId": "dc87e21f-908e-49c6-fcf1-3db588d45c86"
      },
      "source": [
        "%%time\n",
        "import os\n",
        "from glob import glob\n",
        "import numpy as np\n",
        "import matplotlib.pyplot as plt\n",
        "%matplotlib inline\n",
        "import pandas as pd\n",
        "import seaborn as sns\n",
        "import re\n",
        "import nltk\n",
        "import json\n",
        "import tensorflow as tf\n",
        "from tensorflow import keras\n",
        "from tensorflow.keras import regularizers\n",
        "from keras import models\n",
        "from keras import layers\n",
        "from tensorflow.keras.layers import LSTM,GRU\n",
        "from tensorflow.keras.models import load_model\n",
        "from sklearn.metrics import confusion_matrix\n",
        "from sklearn.metrics import classification_report \n",
        "from sklearn.model_selection import train_test_split\n",
        "from sklearn.linear_model import LogisticRegression, LogisticRegressionCV\n",
        "from sklearn.tree import DecisionTreeClassifier\n",
        "from sklearn.neighbors import KNeighborsClassifier\n",
        "from sklearn.ensemble import RandomForestClassifier, AdaBoostClassifier\n",
        "from sklearn.naive_bayes import MultinomialNB\n",
        "from sklearn.svm import SVC\n",
        "from sklearn.metrics import accuracy_score,precision_score,recall_score,f1_score,roc_auc_score\n",
        "from sklearn.metrics import average_precision_score,roc_auc_score, roc_curve, precision_recall_curve\n",
        "from sklearn.preprocessing import LabelEncoder\n",
        "from sklearn.feature_extraction.text import TfidfVectorizer, CountVectorizer, TfidfTransformer\n",
        "from sklearn.pipeline import Pipeline\n",
        "from tensorflow.keras.preprocessing.text import Tokenizer\n",
        "np.random.seed(42)"
      ],
      "execution_count": null,
      "outputs": [
        {
          "output_type": "stream",
          "text": [
            "CPU times: user 1.64 s, sys: 317 ms, total: 1.96 s\n",
            "Wall time: 2.63 s\n"
          ],
          "name": "stdout"
        }
      ]
    },
    {
      "cell_type": "markdown",
      "metadata": {
        "id": "6knU6_xubnBJ"
      },
      "source": [
        "## Reading cleaned data"
      ]
    },
    {
      "cell_type": "code",
      "metadata": {
        "id": "Idrp0lOxaOtj"
      },
      "source": [
        "path = '/content/drive/MyDrive/Projects/NAACL-EmotionClassification/'\n",
        "\n",
        "raw_train_data = pd.read_excel(path+'train.xlsx') \n",
        "raw_val_data = pd.read_excel(path + 'val.xlsx')\n",
        "raw_test_data = pd.read_excel(path + 'test.xlsx')"
      ],
      "execution_count": null,
      "outputs": []
    },
    {
      "cell_type": "code",
      "metadata": {
        "colab": {
          "base_uri": "https://localhost:8080/",
          "height": 359
        },
        "id": "kEL83OY5H6XS",
        "outputId": "2a171191-d1f7-4d4c-fa3b-313e50525fae"
      },
      "source": [
        "raw_train_data.head(10)"
      ],
      "execution_count": null,
      "outputs": [
        {
          "output_type": "execute_result",
          "data": {
            "text/html": [
              "<div>\n",
              "<style scoped>\n",
              "    .dataframe tbody tr th:only-of-type {\n",
              "        vertical-align: middle;\n",
              "    }\n",
              "\n",
              "    .dataframe tbody tr th {\n",
              "        vertical-align: top;\n",
              "    }\n",
              "\n",
              "    .dataframe thead th {\n",
              "        text-align: right;\n",
              "    }\n",
              "</style>\n",
              "<table border=\"1\" class=\"dataframe\">\n",
              "  <thead>\n",
              "    <tr style=\"text-align: right;\">\n",
              "      <th></th>\n",
              "      <th>Unnamed: 0</th>\n",
              "      <th>cleaned</th>\n",
              "      <th>classes</th>\n",
              "      <th>labels</th>\n",
              "    </tr>\n",
              "  </thead>\n",
              "  <tbody>\n",
              "    <tr>\n",
              "      <th>0</th>\n",
              "      <td>0</td>\n",
              "      <td>মেডিকেলে এসে ঠিক ফ্যামিলির ফটো ফ্রেম এর মতো মন...</td>\n",
              "      <td>sadness</td>\n",
              "      <td>1</td>\n",
              "    </tr>\n",
              "    <tr>\n",
              "      <th>1</th>\n",
              "      <td>1</td>\n",
              "      <td>অনেক দিন পর অন্য রকম অনুভূতি হচ্ছে  কেননা আমার...</td>\n",
              "      <td>sadness</td>\n",
              "      <td>1</td>\n",
              "    </tr>\n",
              "    <tr>\n",
              "      <th>2</th>\n",
              "      <td>2</td>\n",
              "      <td>আগে যতোটা বেশি পছন্দ করতাম দুশ্চরিত্রা মিথিলা ...</td>\n",
              "      <td>disgust</td>\n",
              "      <td>3</td>\n",
              "    </tr>\n",
              "    <tr>\n",
              "      <th>3</th>\n",
              "      <td>3</td>\n",
              "      <td>মাঝে মাঝে মনে হয় তোমাকে চাওয়াটা অনেক ভুল হয়ত ভ...</td>\n",
              "      <td>sadness</td>\n",
              "      <td>1</td>\n",
              "    </tr>\n",
              "    <tr>\n",
              "      <th>4</th>\n",
              "      <td>4</td>\n",
              "      <td>এখানে কাওকে কবর দিয়ো না তাহলে তোমাদের পরিবারের...</td>\n",
              "      <td>fear</td>\n",
              "      <td>5</td>\n",
              "    </tr>\n",
              "    <tr>\n",
              "      <th>5</th>\n",
              "      <td>5</td>\n",
              "      <td>কান্নার জল সবাই দেখে হৃদয়ের কষ্ট কেউ দেখেনা প...</td>\n",
              "      <td>sadness</td>\n",
              "      <td>1</td>\n",
              "    </tr>\n",
              "    <tr>\n",
              "      <th>6</th>\n",
              "      <td>6</td>\n",
              "      <td>নির্বাচনের সময় কস্ট করে ভোট চাইসে এর চেয়ে বেশি...</td>\n",
              "      <td>disgust</td>\n",
              "      <td>3</td>\n",
              "    </tr>\n",
              "    <tr>\n",
              "      <th>7</th>\n",
              "      <td>7</td>\n",
              "      <td>দাদা আপনার video গুলো ভালো লাগে ডকুমেন্টারি টা...</td>\n",
              "      <td>joy</td>\n",
              "      <td>0</td>\n",
              "    </tr>\n",
              "    <tr>\n",
              "      <th>8</th>\n",
              "      <td>8</td>\n",
              "      <td>বাস্তবতা এটাই কেউ সারাজীবন সুখ চেয়েও পায় নাআর ...</td>\n",
              "      <td>sadness</td>\n",
              "      <td>1</td>\n",
              "    </tr>\n",
              "    <tr>\n",
              "      <th>9</th>\n",
              "      <td>9</td>\n",
              "      <td>কিন্ত ভয় কিসের থেকে আমি জানতামনা কিন্ত আমার মন...</td>\n",
              "      <td>fear</td>\n",
              "      <td>5</td>\n",
              "    </tr>\n",
              "  </tbody>\n",
              "</table>\n",
              "</div>"
            ],
            "text/plain": [
              "   Unnamed: 0  ... labels\n",
              "0           0  ...      1\n",
              "1           1  ...      1\n",
              "2           2  ...      3\n",
              "3           3  ...      1\n",
              "4           4  ...      5\n",
              "5           5  ...      1\n",
              "6           6  ...      3\n",
              "7           7  ...      0\n",
              "8           8  ...      1\n",
              "9           9  ...      5\n",
              "\n",
              "[10 rows x 4 columns]"
            ]
          },
          "metadata": {
            "tags": []
          },
          "execution_count": 5
        }
      ]
    },
    {
      "cell_type": "code",
      "metadata": {
        "colab": {
          "base_uri": "https://localhost:8080/",
          "height": 359
        },
        "id": "sbfxxKetaWEE",
        "outputId": "798d12e7-cd2e-4efa-8981-ddc990e04aa6"
      },
      "source": [
        "raw_val_data.head(10)"
      ],
      "execution_count": null,
      "outputs": [
        {
          "output_type": "execute_result",
          "data": {
            "text/html": [
              "<div>\n",
              "<style scoped>\n",
              "    .dataframe tbody tr th:only-of-type {\n",
              "        vertical-align: middle;\n",
              "    }\n",
              "\n",
              "    .dataframe tbody tr th {\n",
              "        vertical-align: top;\n",
              "    }\n",
              "\n",
              "    .dataframe thead th {\n",
              "        text-align: right;\n",
              "    }\n",
              "</style>\n",
              "<table border=\"1\" class=\"dataframe\">\n",
              "  <thead>\n",
              "    <tr style=\"text-align: right;\">\n",
              "      <th></th>\n",
              "      <th>Unnamed: 0</th>\n",
              "      <th>cleaned</th>\n",
              "      <th>classes</th>\n",
              "      <th>labels</th>\n",
              "    </tr>\n",
              "  </thead>\n",
              "  <tbody>\n",
              "    <tr>\n",
              "      <th>0</th>\n",
              "      <td>0</td>\n",
              "      <td>তোরা সবাই বিটিভির পর্দায় ফিরে আয়🙂তোদের জন্য মু...</td>\n",
              "      <td>disgust</td>\n",
              "      <td>3</td>\n",
              "    </tr>\n",
              "    <tr>\n",
              "      <th>1</th>\n",
              "      <td>1</td>\n",
              "      <td>২০১৭ সালে বৈশ্বিকভাবে সেপসিসে ৪ কোটি ৮৯ লাখ মা...</td>\n",
              "      <td>sadness</td>\n",
              "      <td>1</td>\n",
              "    </tr>\n",
              "    <tr>\n",
              "      <th>2</th>\n",
              "      <td>2</td>\n",
              "      <td>আপনার দুই গালে দুইটা কষে থাপ্পড় দেয়া যাইতো চিন...</td>\n",
              "      <td>anger</td>\n",
              "      <td>4</td>\n",
              "    </tr>\n",
              "    <tr>\n",
              "      <th>3</th>\n",
              "      <td>3</td>\n",
              "      <td>একজন হিন্দু হয়ে আজকে একটু ভুলের জন্য বীফ কারি ...</td>\n",
              "      <td>sadness</td>\n",
              "      <td>1</td>\n",
              "    </tr>\n",
              "    <tr>\n",
              "      <th>4</th>\n",
              "      <td>4</td>\n",
              "      <td>আজ দুঃখ ভোলার দিন আজ মন হবে যে রঙিন আজ প্রাণ খ...</td>\n",
              "      <td>joy</td>\n",
              "      <td>0</td>\n",
              "    </tr>\n",
              "    <tr>\n",
              "      <th>5</th>\n",
              "      <td>5</td>\n",
              "      <td>তার থেকেও বেশী কষ্ট হচ্ছে তাঁর দাফনের দৃশ্য দে...</td>\n",
              "      <td>sadness</td>\n",
              "      <td>1</td>\n",
              "    </tr>\n",
              "    <tr>\n",
              "      <th>6</th>\n",
              "      <td>6</td>\n",
              "      <td>ভাই তোমার ভিডিও দেখি ওই হিজরার উপরে আমার মাথা ...</td>\n",
              "      <td>anger</td>\n",
              "      <td>4</td>\n",
              "    </tr>\n",
              "    <tr>\n",
              "      <th>7</th>\n",
              "      <td>7</td>\n",
              "      <td>কত দিন পর বারো বছর এ কয় বছরে কত কী বদলেছে তুমি...</td>\n",
              "      <td>surprise</td>\n",
              "      <td>2</td>\n",
              "    </tr>\n",
              "    <tr>\n",
              "      <th>8</th>\n",
              "      <td>8</td>\n",
              "      <td>রঙে রঙে ছয়লাপতবু ভয়…এও একধরণের খেলা ভয়ের সঙ্গে...</td>\n",
              "      <td>fear</td>\n",
              "      <td>5</td>\n",
              "    </tr>\n",
              "    <tr>\n",
              "      <th>9</th>\n",
              "      <td>9</td>\n",
              "      <td>সময়টা আজ কেমন যেন বড় হয়ে গেছি আমি তারা গুলো...</td>\n",
              "      <td>sadness</td>\n",
              "      <td>1</td>\n",
              "    </tr>\n",
              "  </tbody>\n",
              "</table>\n",
              "</div>"
            ],
            "text/plain": [
              "   Unnamed: 0  ... labels\n",
              "0           0  ...      3\n",
              "1           1  ...      1\n",
              "2           2  ...      4\n",
              "3           3  ...      1\n",
              "4           4  ...      0\n",
              "5           5  ...      1\n",
              "6           6  ...      4\n",
              "7           7  ...      2\n",
              "8           8  ...      5\n",
              "9           9  ...      1\n",
              "\n",
              "[10 rows x 4 columns]"
            ]
          },
          "metadata": {
            "tags": []
          },
          "execution_count": 6
        }
      ]
    },
    {
      "cell_type": "code",
      "metadata": {
        "colab": {
          "base_uri": "https://localhost:8080/",
          "height": 359
        },
        "id": "OdZQ1OLIIcSL",
        "outputId": "257caeba-a833-4e23-b31b-dc3db2b0e8c1"
      },
      "source": [
        "raw_test_data.head(10)"
      ],
      "execution_count": null,
      "outputs": [
        {
          "output_type": "execute_result",
          "data": {
            "text/html": [
              "<div>\n",
              "<style scoped>\n",
              "    .dataframe tbody tr th:only-of-type {\n",
              "        vertical-align: middle;\n",
              "    }\n",
              "\n",
              "    .dataframe tbody tr th {\n",
              "        vertical-align: top;\n",
              "    }\n",
              "\n",
              "    .dataframe thead th {\n",
              "        text-align: right;\n",
              "    }\n",
              "</style>\n",
              "<table border=\"1\" class=\"dataframe\">\n",
              "  <thead>\n",
              "    <tr style=\"text-align: right;\">\n",
              "      <th></th>\n",
              "      <th>Unnamed: 0</th>\n",
              "      <th>cleaned</th>\n",
              "      <th>classes</th>\n",
              "      <th>labels</th>\n",
              "    </tr>\n",
              "  </thead>\n",
              "  <tbody>\n",
              "    <tr>\n",
              "      <th>0</th>\n",
              "      <td>0</td>\n",
              "      <td>দুই বছরের ব্যবধানে বগুড়া থেকে বিদেশে পণ্য রপ্ত...</td>\n",
              "      <td>joy</td>\n",
              "      <td>0</td>\n",
              "    </tr>\n",
              "    <tr>\n",
              "      <th>1</th>\n",
              "      <td>1</td>\n",
              "      <td>আওয়ামী লীগ সরকার বাংলাদেশকে অন্ধকার কুয়া থেকে ...</td>\n",
              "      <td>joy</td>\n",
              "      <td>0</td>\n",
              "    </tr>\n",
              "    <tr>\n",
              "      <th>2</th>\n",
              "      <td>2</td>\n",
              "      <td>চোখ কচলাতে কচলাতে বেশ রাগান্বীত কন্ঠ বলল ধুরো ...</td>\n",
              "      <td>disgust</td>\n",
              "      <td>3</td>\n",
              "    </tr>\n",
              "    <tr>\n",
              "      <th>3</th>\n",
              "      <td>3</td>\n",
              "      <td>মেয়েটা অতিরিক্ত আত্মপরিচয় সংকটে ভুগে সাবিলা স্...</td>\n",
              "      <td>disgust</td>\n",
              "      <td>3</td>\n",
              "    </tr>\n",
              "    <tr>\n",
              "      <th>4</th>\n",
              "      <td>4</td>\n",
              "      <td>এবার উন্নয়ন মুলক কাজের কিছু দৃশ্যমান পরিদশন ক...</td>\n",
              "      <td>joy</td>\n",
              "      <td>0</td>\n",
              "    </tr>\n",
              "    <tr>\n",
              "      <th>5</th>\n",
              "      <td>5</td>\n",
              "      <td>আওয়ামী লীগ সরকারের টানা ১০ বছর অর্থমন্ত্রীর দা...</td>\n",
              "      <td>disgust</td>\n",
              "      <td>3</td>\n",
              "    </tr>\n",
              "    <tr>\n",
              "      <th>6</th>\n",
              "      <td>6</td>\n",
              "      <td>স্কুইল নামক এক ঔষধি গাছের বিভিন্ন উপাদানের সাথ...</td>\n",
              "      <td>surprise</td>\n",
              "      <td>2</td>\n",
              "    </tr>\n",
              "    <tr>\n",
              "      <th>7</th>\n",
              "      <td>7</td>\n",
              "      <td>ভেবে খুব খারাপ লাগছে  বাংলাদেশের মেধাবী মানুষগ...</td>\n",
              "      <td>sadness</td>\n",
              "      <td>1</td>\n",
              "    </tr>\n",
              "    <tr>\n",
              "      <th>8</th>\n",
              "      <td>8</td>\n",
              "      <td>তারপর হঠাৎ করেই আলেকজান্ডার তার বুকেফ্যালাসের ...</td>\n",
              "      <td>surprise</td>\n",
              "      <td>2</td>\n",
              "    </tr>\n",
              "    <tr>\n",
              "      <th>9</th>\n",
              "      <td>9</td>\n",
              "      <td>তো এই অবস্থায় আমি এসব সংবাদ আমি একদম নিতে পারি...</td>\n",
              "      <td>fear</td>\n",
              "      <td>5</td>\n",
              "    </tr>\n",
              "  </tbody>\n",
              "</table>\n",
              "</div>"
            ],
            "text/plain": [
              "   Unnamed: 0  ... labels\n",
              "0           0  ...      0\n",
              "1           1  ...      0\n",
              "2           2  ...      3\n",
              "3           3  ...      3\n",
              "4           4  ...      0\n",
              "5           5  ...      3\n",
              "6           6  ...      2\n",
              "7           7  ...      1\n",
              "8           8  ...      2\n",
              "9           9  ...      5\n",
              "\n",
              "[10 rows x 4 columns]"
            ]
          },
          "metadata": {
            "tags": []
          },
          "execution_count": 7
        }
      ]
    },
    {
      "cell_type": "code",
      "metadata": {
        "colab": {
          "base_uri": "https://localhost:8080/"
        },
        "id": "ZzI1z8xbXBor",
        "outputId": "aa05f65d-6ca6-42f5-84b4-97eff5544c9f"
      },
      "source": [
        "\n",
        "#Creating training data\n",
        "train_data = raw_train_data.cleaned.tolist()\n",
        "train_labels = raw_train_data.labels.tolist()\n",
        "\n",
        "#Creating validation data\n",
        "val_data = raw_val_data.cleaned.tolist()\n",
        "val_labels = raw_val_data.labels.tolist()\n",
        "\n",
        "#Creating testing data\n",
        "test_data = raw_test_data.cleaned.tolist()\n",
        "test_labels = raw_test_data.labels.tolist()\n",
        "\n",
        "\n",
        "def sanity_print(x, y):\n",
        "   print(len(x), len(y), type(x), type(y))\n",
        "   for i in range(10):\n",
        "     print(x[i], y[i])\n",
        "\n",
        "sanity_print(train_data, train_labels)\n",
        "sanity_print(val_data, val_labels)\n",
        "sanity_print(test_data, test_labels)"
      ],
      "execution_count": null,
      "outputs": [
        {
          "output_type": "stream",
          "text": [
            "4994 4994 <class 'list'> <class 'list'>\n",
            "মেডিকেলে এসে ঠিক ফ্যামিলির ফটো ফ্রেম এর মতো মনে হতো নিজেকেখাপছাড়া লাগতোদম বন্ধ হয়ে আসতোঅন্যদের সামনে অপমানিত হতে হতো পদে পদে 1\n",
            "অনেক দিন পর অন্য রকম অনুভূতি হচ্ছে  কেননা আমার সদ্য পাশ করা শিক্ষার্থীর মত এখন আমিও বেকার বেকার পরিচয় দিয়ে আম্মার কাছ থেকে আজ পঞ্চাশ টাকা ডাকাতি করলাম  1\n",
            "আগে যতোটা বেশি পছন্দ করতাম দুশ্চরিত্রা মিথিলা মুখার্জি কে এখন তেমনি সবচেয়ে বেশি ঘৃণা করি ওই পতিতা সদ্য হিন্দু হওয়া মিথিলা মুখার্জি কে 3\n",
            "মাঝে মাঝে মনে হয় তোমাকে চাওয়াটা অনেক ভুল হয়ত ভুল তবে এই ভুলের মাশুল এইভাবেই কি দিতে হতো জানি না তবে যা জানি তা মানি না 1\n",
            "এখানে কাওকে কবর দিয়ো না তাহলে তোমাদের পরিবারের আর কেউ বেঁচে থাকবে না ও তোমাদের কাউকে বাঁচতে দিবে না  চলে যাও এখান থেকে নিজে থেকে অভিশাপকে আহ্বান করো না 5\n",
            "কান্নার জল সবাই দেখে হৃদয়ের কষ্ট কেউ দেখেনা পাওয়ার আনন্দ কিছু দিন থাকেকিন্তু না পাওয়ার বেদনা সারাজীবন এ ও ভুলা যায়না 1\n",
            "নির্বাচনের সময় কস্ট করে ভোট চাইসে এর চেয়ে বেশি এইসব প্রতিবন্ধী থেকে আর কি আশা করা যায় 3\n",
            "দাদা আপনার video গুলো ভালো লাগে ডকুমেন্টারি টাইপের ভিডিও বানানো শুরু করেছি সবেমাত্রআপনারা সাপোর্ট করলে মোটিভেশন পাই একজন ছোট youtuber হতে চাই আমাকে সাপোর্ট করুন আমার ভিডিও গুলো দেখে আসুন ভালো লাগলে পাশে থাকবেন আশা করি 0\n",
            "বাস্তবতা এটাই কেউ সারাজীবন সুখ চেয়েও পায় নাআর কেউ পেয়ে চায় নাহহায়রে আজব পৃথিবী 1\n",
            "কিন্ত ভয় কিসের থেকে আমি জানতামনা কিন্ত আমার মনে হয় এটা তার নানুর কুকুরের জন্য সেটা অনেক খারাপ কুকুর ছিল  5\n",
            "624 624 <class 'list'> <class 'list'>\n",
            "তোরা সবাই বিটিভির পর্দায় ফিরে আয়🙂তোদের জন্য মুভি নারেবাম্পার ফলনই তোদের বিনোদনের মূল মাধ্যম 🙄পোলাপান কতটা সিরিয়াস মাইরিভাবা যায় সামান্য মুভির সামান্য রিভিউ বিনিময়ে কী সাংঘাতিক গালাগাল🙄ম্যাঁ গো 3\n",
            "২০১৭ সালে বৈশ্বিকভাবে সেপসিসে ৪ কোটি ৮৯ লাখ মানুষ আক্রান্ত হয়েছিল আর ওই বছর সেপসিসসংশ্লিষ্ট কারণে ১ কোটি ১০ লাখ মানুষ মারা যায় এটি মোট মৃত্যুর ১৯ দশমিক ৭ শতাংশ 1\n",
            "আপনার দুই গালে দুইটা কষে থাপ্পড় দেয়া যাইতো চিন্তা করিয়েন না অবশ্যই পুরুষ মানুষদের হাতেই আপনার দুই গালে সিরিয়ালে চড় দেয়ানো হবে অসভ্য ইতর লোক কোথাকার 4\n",
            "একজন হিন্দু হয়ে আজকে একটু ভুলের জন্য বীফ কারি খেতে হলকতটা খারাপ লাগতেছে হয়ত বোঝাতে পারব না 1\n",
            "আজ দুঃখ ভোলার দিন আজ মন হবে যে রঙিন আজ প্রাণ খুলে শুধু গান গাওয়ার দিন সুখ হবে সীমাহীন 0\n",
            "তার থেকেও বেশী কষ্ট হচ্ছে তাঁর দাফনের দৃশ্য দেখে আমি জানি না পরিবারের কেউ তার মুখটাও শেষবারের মত দেখতে পেরেছে কি না বন্ধুকে কিছু জিজ্ঞেস করার সাহস হয়নিহয়ত করলেও সে উত্তর দিত না  1\n",
            "ভাই তোমার ভিডিও দেখি ওই হিজরার উপরে আমার মাথা এত গরম হইছে ওরে আমার সামনে পাইলে মাটির ২ফুট নিছে ডুকাইতামএতো হাবাস আমি বাপের জন্মেও দেখিনি     এদের থেকে হিজরে অনেক ভালো 4\n",
            "কত দিন পর বারো বছর এ কয় বছরে কত কী বদলেছে তুমি নিজেও কি কম বদলেছ আস্তে আস্তে প্রবল বিস্ময়ে চোখ কুঁচকে উঠতে শুরু করল তোমার 2\n",
            "রঙে রঙে ছয়লাপতবু ভয়…এও একধরণের খেলা ভয়ের সঙ্গে পরাজয়ও 5\n",
            "সময়টা আজ কেমন যেন বড় হয়ে গেছি আমি তারা গুলো আজ ও মেঘের আড়াল কোথায় গিয়ে নামি  1\n",
            "625 625 <class 'list'> <class 'list'>\n",
            "দুই বছরের ব্যবধানে বগুড়া থেকে বিদেশে পণ্য রপ্তানি সাত গুণ বেড়েছে গত বছর বগুড়া থেকে ভারত ও নেপালে পণ্য রপ্তানি করে আয় হয়েছে ৭ কোটি ২৩ লাখ ৩০ হাজার ৬৩২ মার্কিন ডলার বাংলাদেশি মুদ্রায় রপ্তানি আয়ের পরিমাণ ৬০৭ কোটি ৫৭ লাখ ৭৩ হাজার ৮৮ টাকা 0\n",
            "আওয়ামী লীগ সরকার বাংলাদেশকে অন্ধকার কুয়া থেকে টেনে আলোর পথে এনেছে বলে মন্তব্য করেছেন পরিকল্পনামন্ত্রী এম এ মান্নান তিনি বলেছেন মাথা নুয়ে থাকার দিন শেষ শেখ হাসিনার নেতৃত্বে বাংলাদেশ এখন বিশ্বে মর্যাদার আসনে রয়েছে 0\n",
            "চোখ কচলাতে কচলাতে বেশ রাগান্বীত কন্ঠ বলল ধুরো মরা ঘুমাইয়াও শান্তি নাই এত রাইতে মরতে কই যাইবেন 3\n",
            "মেয়েটা অতিরিক্ত আত্মপরিচয় সংকটে ভুগে সাবিলা স্যাবলাই রয়ে গেলো বিউটি উইথআউট ব্রেইন 3\n",
            "এবার উন্নয়ন মুলক কাজের কিছু দৃশ্যমান পরিদশন করবেন বাংলাদেশ স্কাউটের ছেলে মেয়েরা বঙ্গবন্ধু শেখ মুজিবুর রহমান শিল্প নগর মিরসরাই চটগ্রামআয়োজনে বেজা অথরিটি মাচ মাসে এটা নিজের চোখে না দেখলে কখনো বিস্বাস করা যাবে না বর্তমান সরকার কি করতে চলেছে এককথায় অসাধারন একটি পরিকল্পনা ধন্যবাদ 0\n",
            "আওয়ামী লীগ সরকারের টানা ১০ বছর অর্থমন্ত্রীর দায়িত্ব পালন করেছেন আবুল মাল আবদুল মুহিত জাতীয় সংসদে ১২টি বাজেট উপস্থাপন করেছেন তিনি শেয়ারবাজার বেসিক ব্যাংক একাধিক আর্থিক কেলেঙ্কারিসহ নানা বিষয়ে সমালোচনাও ছিল তাঁর আমলে 3\n",
            "স্কুইল নামক এক ঔষধি গাছের বিভিন্ন উপাদানের সাথে লাইসার্জিক এসিড মিশিয়ে তিনি দুর্ঘটনাবশত এই মাদকটি আবিষ্কার করেছিলেন 2\n",
            "ভেবে খুব খারাপ লাগছে  বাংলাদেশের মেধাবী মানুষগুলো আমেরিকায় গেল একটা ভাল লাইফ লিড করার জন্য আর এখন কি আতঙ্কের মধ্যে তারা  😢 1\n",
            "তারপর হঠাৎ করেই আলেকজান্ডার তার বুকেফ্যালাসের পিঠে করে কম্প্যানিয়নদেরকে সাথে নিয়ে ঝটিকা আক্রমণে পার্সিয়ানদের রক্ষণব্যূহ ভেদ করে অনেকখানি ভেতরে ঢুকে পড়লেন এদিকে আলেকজান্ডারের এই আকস্মিক আক্রমণে খেই হারিয়ে ফেলে দারিউস যুদ্ধক্ষেত্র থেকেই পালিয়ে গেলেন 2\n",
            "তো এই অবস্থায় আমি এসব সংবাদ আমি একদম নিতে পারিনা আমার সচেতন বা অবচেতন মনে এমন একটা ভয় ঢুকে যায় যে আমি খোলা চোখে অদ্ভুত সব ঘটনা চিন্তা করতে থাকি আর প্যানিক করি৷ যে কারণে আমি এখন আর সাইকো থ্রিলার মুভি দেখিনা অসম্ভব চাপ হয় 5\n"
          ],
          "name": "stdout"
        }
      ]
    },
    {
      "cell_type": "markdown",
      "metadata": {
        "id": "DeImjRAHbpqZ"
      },
      "source": [
        "## ML Models"
      ]
    },
    {
      "cell_type": "code",
      "metadata": {
        "colab": {
          "base_uri": "https://localhost:8080/"
        },
        "id": "TzNcDyR9a1jB",
        "outputId": "e254b750-0e89-481f-a325-cca62be0485c"
      },
      "source": [
        "%%time\n",
        "lr_model = LogisticRegressionCV(class_weight='balanced', max_iter=400)\n",
        "dt_model = DecisionTreeClassifier(class_weight='balanced')\n",
        "rf_model = RandomForestClassifier(class_weight='balanced')\n",
        "mnb_model = MultinomialNB()\n",
        "svm_model = SVC(class_weight='balanced')\n",
        "knn_model = KNeighborsClassifier()\n",
        "ada_model = AdaBoostClassifier()\n",
        "model_names = ['Logistic Regression','Decision Tree','Random Forest','Naive Bayes', 'SVM', 'KNN', 'AdaBoost']\n",
        "ml_models = [lr_model,dt_model,rf_model,mnb_model, svm_model, knn_model, ada_model]"
      ],
      "execution_count": null,
      "outputs": [
        {
          "output_type": "stream",
          "text": [
            "CPU times: user 162 µs, sys: 18 µs, total: 180 µs\n",
            "Wall time: 183 µs\n"
          ],
          "name": "stdout"
        }
      ]
    },
    {
      "cell_type": "code",
      "metadata": {
        "id": "Av4vUb6Gc3p8"
      },
      "source": [
        "%%time\n",
        "def model_train(model, train_data, train_labels):\n",
        "  pipe = Pipeline([\n",
        "        ('FE', TfidfVectorizer(ngram_range=(1,2), use_idf = True, tokenizer=lambda x: x.split(), max_features=20000)),  \n",
        "        ('Transformer', TfidfTransformer()),  \n",
        "        ('M', model)\n",
        "    ])\n",
        "  pipe.fit(train_data, train_labels)\n",
        "  return pipe\n",
        "\n",
        "trained_ml_models = []\n",
        "for i in ml_models:\n",
        "    tt = model_train(i,train_data, train_labels)\n",
        "    trained_ml_models.append(tt)"
      ],
      "execution_count": null,
      "outputs": []
    },
    {
      "cell_type": "markdown",
      "metadata": {
        "id": "Xp3jpy8VKP6X"
      },
      "source": [
        "### Performance on validation set"
      ]
    },
    {
      "cell_type": "code",
      "metadata": {
        "colab": {
          "base_uri": "https://localhost:8080/",
          "height": 266
        },
        "id": "zrRcinoLgZIO",
        "outputId": "718f71c4-19ca-4ca3-bf82-7d78641dac1c"
      },
      "source": [
        "pr_list = []\n",
        "re_list = []\n",
        "f1_list = []\n",
        "\n",
        "def print_results(md, x_test, y_test, name):\n",
        "    #print(\"\\n\\nClassifier: \", name)\n",
        "    pred_y = md.predict(x_test)\n",
        "    true, pred = y_test, pred_y\n",
        "    # print(confusion_matrix(true,pred))\n",
        "    # print(classification_report(true,pred))\n",
        "    # print(\"\\nPrecison : \",precision_score(pred,true, average = 'weighted'))\n",
        "    # print(\"\\nRecall : \",recall_score(pred,true,  average = 'weighted'))\n",
        "    # print(\"\\nF1 : \",f1_score(pred,true,  average = 'weighted'))\n",
        "\n",
        "    pr_list.append((round(precision_score(y_test, pred_y, average='weighted'),4)*100)) \n",
        "    re_list.append((round(recall_score(y_test, pred_y, average='weighted'),4)*100))\n",
        "    f1_list.append((round(f1_score(y_test, pred_y, average='weighted'),4)*100))\n",
        "\n",
        "for i in range(len(trained_ml_models)):\n",
        "    md = trained_ml_models[i]\n",
        "    name = model_names[i]\n",
        "    print_results(md, val_data, val_labels, name)\n",
        "\n",
        "performance_matrix = pd.DataFrame({'Precision':pr_list,\n",
        "                                   'Recall':re_list,'F1 Score':f1_list},\n",
        "                                  index =model_names)\n",
        "performance_matrix"
      ],
      "execution_count": null,
      "outputs": [
        {
          "output_type": "execute_result",
          "data": {
            "text/html": [
              "<div>\n",
              "<style scoped>\n",
              "    .dataframe tbody tr th:only-of-type {\n",
              "        vertical-align: middle;\n",
              "    }\n",
              "\n",
              "    .dataframe tbody tr th {\n",
              "        vertical-align: top;\n",
              "    }\n",
              "\n",
              "    .dataframe thead th {\n",
              "        text-align: right;\n",
              "    }\n",
              "</style>\n",
              "<table border=\"1\" class=\"dataframe\">\n",
              "  <thead>\n",
              "    <tr style=\"text-align: right;\">\n",
              "      <th></th>\n",
              "      <th>Precision</th>\n",
              "      <th>Recall</th>\n",
              "      <th>F1 Score</th>\n",
              "    </tr>\n",
              "  </thead>\n",
              "  <tbody>\n",
              "    <tr>\n",
              "      <th>Logistic Regression</th>\n",
              "      <td>66.10</td>\n",
              "      <td>65.71</td>\n",
              "      <td>65.84</td>\n",
              "    </tr>\n",
              "    <tr>\n",
              "      <th>Decision Tree</th>\n",
              "      <td>43.66</td>\n",
              "      <td>43.27</td>\n",
              "      <td>43.15</td>\n",
              "    </tr>\n",
              "    <tr>\n",
              "      <th>Random Forest</th>\n",
              "      <td>58.39</td>\n",
              "      <td>57.85</td>\n",
              "      <td>57.09</td>\n",
              "    </tr>\n",
              "    <tr>\n",
              "      <th>Naive Bayes</th>\n",
              "      <td>62.00</td>\n",
              "      <td>56.41</td>\n",
              "      <td>52.23</td>\n",
              "    </tr>\n",
              "    <tr>\n",
              "      <th>SVM</th>\n",
              "      <td>64.64</td>\n",
              "      <td>62.98</td>\n",
              "      <td>62.67</td>\n",
              "    </tr>\n",
              "    <tr>\n",
              "      <th>KNN</th>\n",
              "      <td>49.14</td>\n",
              "      <td>47.76</td>\n",
              "      <td>47.56</td>\n",
              "    </tr>\n",
              "    <tr>\n",
              "      <th>AdaBoost</th>\n",
              "      <td>49.67</td>\n",
              "      <td>44.07</td>\n",
              "      <td>43.06</td>\n",
              "    </tr>\n",
              "  </tbody>\n",
              "</table>\n",
              "</div>"
            ],
            "text/plain": [
              "                     Precision  Recall  F1 Score\n",
              "Logistic Regression      66.10   65.71     65.84\n",
              "Decision Tree            43.66   43.27     43.15\n",
              "Random Forest            58.39   57.85     57.09\n",
              "Naive Bayes              62.00   56.41     52.23\n",
              "SVM                      64.64   62.98     62.67\n",
              "KNN                      49.14   47.76     47.56\n",
              "AdaBoost                 49.67   44.07     43.06"
            ]
          },
          "metadata": {
            "tags": []
          },
          "execution_count": 22
        }
      ]
    },
    {
      "cell_type": "markdown",
      "metadata": {
        "id": "YKrsOI5bKfmx"
      },
      "source": [
        "### Performance on test set"
      ]
    },
    {
      "cell_type": "code",
      "metadata": {
        "colab": {
          "base_uri": "https://localhost:8080/",
          "height": 266
        },
        "id": "N-scxU_JKiov",
        "outputId": "8e903b9d-7d7e-4b25-dfdb-5b884c810467"
      },
      "source": [
        "pr_list = []\n",
        "re_list = []\n",
        "f1_list = []\n",
        "\n",
        "def print_results(md, x_test, y_test, name):\n",
        "    #print(\"\\n\\nClassifier: \", name)\n",
        "    pred_y = md.predict(x_test)\n",
        "    true, pred = y_test, pred_y\n",
        "    # print(confusion_matrix(true,pred))\n",
        "    # print(classification_report(true,pred))\n",
        "    # print(\"\\nPrecison : \",precision_score(pred,true, average = 'weighted'))\n",
        "    # print(\"\\nRecall : \",recall_score(pred,true,  average = 'weighted'))\n",
        "    # print(\"\\nF1 : \",f1_score(pred,true,  average = 'weighted'))\n",
        "\n",
        "    pr_list.append((round(precision_score(y_test, pred_y, average='weighted'),4)*100)) \n",
        "    re_list.append((round(recall_score(y_test, pred_y, average='weighted'),4)*100))\n",
        "    f1_list.append((round(f1_score(y_test, pred_y, average='weighted'),4)*100))\n",
        "\n",
        "for i in range(len(trained_ml_models)):\n",
        "    md = trained_ml_models[i]\n",
        "    name = model_names[i]\n",
        "    print_results(md, test_data, test_labels, name)\n",
        "\n",
        "performance_matrix = pd.DataFrame({'Precision':pr_list,\n",
        "                                   'Recall':re_list,'F1 Score':f1_list},\n",
        "                                  index =model_names)\n",
        "performance_matrix"
      ],
      "execution_count": null,
      "outputs": [
        {
          "output_type": "execute_result",
          "data": {
            "text/html": [
              "<div>\n",
              "<style scoped>\n",
              "    .dataframe tbody tr th:only-of-type {\n",
              "        vertical-align: middle;\n",
              "    }\n",
              "\n",
              "    .dataframe tbody tr th {\n",
              "        vertical-align: top;\n",
              "    }\n",
              "\n",
              "    .dataframe thead th {\n",
              "        text-align: right;\n",
              "    }\n",
              "</style>\n",
              "<table border=\"1\" class=\"dataframe\">\n",
              "  <thead>\n",
              "    <tr style=\"text-align: right;\">\n",
              "      <th></th>\n",
              "      <th>Precision</th>\n",
              "      <th>Recall</th>\n",
              "      <th>F1 Score</th>\n",
              "    </tr>\n",
              "  </thead>\n",
              "  <tbody>\n",
              "    <tr>\n",
              "      <th>Logistic Regression</th>\n",
              "      <td>61.07</td>\n",
              "      <td>60.64</td>\n",
              "      <td>60.76</td>\n",
              "    </tr>\n",
              "    <tr>\n",
              "      <th>Decision Tree</th>\n",
              "      <td>44.51</td>\n",
              "      <td>44.16</td>\n",
              "      <td>44.23</td>\n",
              "    </tr>\n",
              "    <tr>\n",
              "      <th>Random Forest</th>\n",
              "      <td>57.95</td>\n",
              "      <td>56.48</td>\n",
              "      <td>54.85</td>\n",
              "    </tr>\n",
              "    <tr>\n",
              "      <th>Naive Bayes</th>\n",
              "      <td>64.24</td>\n",
              "      <td>54.08</td>\n",
              "      <td>48.68</td>\n",
              "    </tr>\n",
              "    <tr>\n",
              "      <th>SVM</th>\n",
              "      <td>61.13</td>\n",
              "      <td>60.00</td>\n",
              "      <td>59.54</td>\n",
              "    </tr>\n",
              "    <tr>\n",
              "      <th>KNN</th>\n",
              "      <td>44.55</td>\n",
              "      <td>44.64</td>\n",
              "      <td>44.07</td>\n",
              "    </tr>\n",
              "    <tr>\n",
              "      <th>AdaBoost</th>\n",
              "      <td>48.72</td>\n",
              "      <td>42.40</td>\n",
              "      <td>40.76</td>\n",
              "    </tr>\n",
              "  </tbody>\n",
              "</table>\n",
              "</div>"
            ],
            "text/plain": [
              "                     Precision  Recall  F1 Score\n",
              "Logistic Regression      61.07   60.64     60.76\n",
              "Decision Tree            44.51   44.16     44.23\n",
              "Random Forest            57.95   56.48     54.85\n",
              "Naive Bayes              64.24   54.08     48.68\n",
              "SVM                      61.13   60.00     59.54\n",
              "KNN                      44.55   44.64     44.07\n",
              "AdaBoost                 48.72   42.40     40.76"
            ]
          },
          "metadata": {
            "tags": []
          },
          "execution_count": 24
        }
      ]
    },
    {
      "cell_type": "markdown",
      "metadata": {
        "id": "FKOmmwNmK25O"
      },
      "source": [
        "## Ensemble"
      ]
    },
    {
      "cell_type": "code",
      "metadata": {
        "colab": {
          "base_uri": "https://localhost:8080/"
        },
        "id": "47qCvkjITjsO",
        "outputId": "37bdd240-47d8-4bee-fd67-0e2cc10689de"
      },
      "source": [
        "whole_data = []\n",
        "\n",
        "def make_whole_list(L):\n",
        "  for i in L:\n",
        "    whole_data.append(i)\n",
        "\n",
        "make_whole_list(train_data)\n",
        "make_whole_list(val_data)\n",
        "make_whole_list(test_data)\n",
        "print(len(whole_data))"
      ],
      "execution_count": null,
      "outputs": [
        {
          "output_type": "stream",
          "text": [
            "6243\n"
          ],
          "name": "stdout"
        }
      ]
    },
    {
      "cell_type": "code",
      "metadata": {
        "id": "1Or9XZ5irXRW"
      },
      "source": [
        "tf = TfidfVectorizer(ngram_range=(1,2), use_idf = True, tokenizer=lambda x: x.split(),  max_features=20000)\n",
        "tf.fit_transform(whole_data) ### Bit confusion arises here need to resolve\n",
        "trained_texts = tf.transform(train_data)\n",
        "val_texts = tf.transform(val_data)\n",
        "test_texts = tf.transform(test_data)"
      ],
      "execution_count": null,
      "outputs": []
    },
    {
      "cell_type": "code",
      "metadata": {
        "id": "d39wCeeJiiXi",
        "colab": {
          "base_uri": "https://localhost:8080/"
        },
        "outputId": "bdbcf3c5-e3d2-40e7-e8f5-b5c5c3f510a3"
      },
      "source": [
        "%%time\n",
        "from sklearn.ensemble import VotingClassifier\n",
        "LogReg_clf = LogisticRegressionCV(class_weight='balanced', max_iter=400)\n",
        "rt_clf =   RandomForestClassifier(class_weight='balanced')\n",
        "SVC_clf = SVC(class_weight='balanced')\n",
        "\n",
        "\n",
        "voting_clf = VotingClassifier(estimators=[('SVC', SVC_clf), ('LogReg', LogReg_clf),('RF', rt_clf)], voting='hard')\n",
        "voting_clf.fit(trained_texts, train_labels)\n"
      ],
      "execution_count": null,
      "outputs": [
        {
          "output_type": "stream",
          "text": [
            "/usr/local/lib/python3.6/dist-packages/sklearn/linear_model/_logistic.py:940: ConvergenceWarning: lbfgs failed to converge (status=1):\n",
            "STOP: TOTAL NO. of ITERATIONS REACHED LIMIT.\n",
            "\n",
            "Increase the number of iterations (max_iter) or scale the data as shown in:\n",
            "    https://scikit-learn.org/stable/modules/preprocessing.html\n",
            "Please also refer to the documentation for alternative solver options:\n",
            "    https://scikit-learn.org/stable/modules/linear_model.html#logistic-regression\n",
            "  extra_warning_msg=_LOGISTIC_SOLVER_CONVERGENCE_MSG)\n",
            "/usr/local/lib/python3.6/dist-packages/sklearn/linear_model/_logistic.py:940: ConvergenceWarning: lbfgs failed to converge (status=1):\n",
            "STOP: TOTAL NO. of ITERATIONS REACHED LIMIT.\n",
            "\n",
            "Increase the number of iterations (max_iter) or scale the data as shown in:\n",
            "    https://scikit-learn.org/stable/modules/preprocessing.html\n",
            "Please also refer to the documentation for alternative solver options:\n",
            "    https://scikit-learn.org/stable/modules/linear_model.html#logistic-regression\n",
            "  extra_warning_msg=_LOGISTIC_SOLVER_CONVERGENCE_MSG)\n"
          ],
          "name": "stderr"
        },
        {
          "output_type": "stream",
          "text": [
            "CPU times: user 2min 51s, sys: 2min 56s, total: 5min 47s\n",
            "Wall time: 3min 5s\n"
          ],
          "name": "stdout"
        }
      ]
    },
    {
      "cell_type": "markdown",
      "metadata": {
        "id": "FRgrCN9GSWCg"
      },
      "source": [
        "### Val set"
      ]
    },
    {
      "cell_type": "code",
      "metadata": {
        "colab": {
          "base_uri": "https://localhost:8080/"
        },
        "id": "3zE6Xz8oxBEY",
        "outputId": "507ee5a6-b818-47e1-fdc8-6c8c3aa74fcf"
      },
      "source": [
        "preds = voting_clf.predict(val_texts)\n",
        "true, pred = val_labels, preds\n",
        "print(confusion_matrix(true,pred))\n",
        "print(classification_report(true,pred))\n",
        "print(\"\\nPrecison : \",precision_score(true, pred, average = 'weighted'))\n",
        "print(\"\\nRecall : \",recall_score(true, pred,  average = 'weighted'))\n",
        "print(\"\\nF1 : \",f1_score(true, pred,  average = 'weighted'))"
      ],
      "execution_count": null,
      "outputs": [
        {
          "output_type": "stream",
          "text": [
            "[[ 77  21   5  14   2   1]\n",
            " [ 14  82   5  15   6   7]\n",
            " [  9  10  29   9   0   7]\n",
            " [  9   9   2 124  10   1]\n",
            " [  5  10   2  14  34   2]\n",
            " [  4  12   2  10   2  59]]\n",
            "              precision    recall  f1-score   support\n",
            "\n",
            "           0       0.65      0.64      0.65       120\n",
            "           1       0.57      0.64      0.60       129\n",
            "           2       0.64      0.45      0.53        64\n",
            "           3       0.67      0.80      0.73       155\n",
            "           4       0.63      0.51      0.56        67\n",
            "           5       0.77      0.66      0.71        89\n",
            "\n",
            "    accuracy                           0.65       624\n",
            "   macro avg       0.65      0.62      0.63       624\n",
            "weighted avg       0.65      0.65      0.65       624\n",
            "\n",
            "\n",
            "Precison :  0.6517967728154874\n",
            "\n",
            "Recall :  0.6490384615384616\n",
            "\n",
            "F1 :  0.6455798649356003\n"
          ],
          "name": "stdout"
        }
      ]
    },
    {
      "cell_type": "markdown",
      "metadata": {
        "id": "_IFem5x5SaFA"
      },
      "source": [
        "### Test set"
      ]
    },
    {
      "cell_type": "code",
      "metadata": {
        "colab": {
          "base_uri": "https://localhost:8080/"
        },
        "id": "5PWtK7TnSZvY",
        "outputId": "c05dc0dc-0e9f-46d4-ae6e-fed0f0ef3f77"
      },
      "source": [
        "preds = voting_clf.predict(test_texts)\n",
        "true, pred = test_labels, preds\n",
        "print(confusion_matrix(true,pred))\n",
        "print(classification_report(true,pred))\n",
        "print(\"\\nPrecison : \",precision_score(true, pred, average = 'weighted'))\n",
        "print(\"\\nRecall : \",recall_score(true, pred,  average = 'weighted'))\n",
        "print(\"\\nF1 : \",f1_score(true, pred,  average = 'weighted'))"
      ],
      "execution_count": null,
      "outputs": [
        {
          "output_type": "stream",
          "text": [
            "[[ 91   8   5  10   0   0]\n",
            " [ 15  65   2  22   7   8]\n",
            " [ 10  16  27   9   3   8]\n",
            " [ 12  18   4 115  14   2]\n",
            " [  7  12   2  25  23   2]\n",
            " [  5  12   3   8   1  54]]\n",
            "              precision    recall  f1-score   support\n",
            "\n",
            "           0       0.65      0.80      0.72       114\n",
            "           1       0.50      0.55      0.52       119\n",
            "           2       0.63      0.37      0.47        73\n",
            "           3       0.61      0.70      0.65       165\n",
            "           4       0.48      0.32      0.39        71\n",
            "           5       0.73      0.65      0.69        83\n",
            "\n",
            "    accuracy                           0.60       625\n",
            "   macro avg       0.60      0.56      0.57       625\n",
            "weighted avg       0.60      0.60      0.59       625\n",
            "\n",
            "\n",
            "Precison :  0.598349179402831\n",
            "\n",
            "Recall :  0.6\n",
            "\n",
            "F1 :  0.590867371798098\n"
          ],
          "name": "stdout"
        }
      ]
    }
  ]
}