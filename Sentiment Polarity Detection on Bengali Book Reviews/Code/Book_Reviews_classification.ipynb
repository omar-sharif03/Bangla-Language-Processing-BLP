{
  "nbformat": 4,
  "nbformat_minor": 0,
  "metadata": {
    "colab": {
      "name": "Book_Reviews_classification.ipynb",
      "provenance": [],
      "collapsed_sections": [],
      "toc_visible": true
    },
    "kernelspec": {
      "name": "python3",
      "display_name": "Python 3"
    },
    "accelerator": "GPU"
  },
  "cells": [
    {
      "cell_type": "code",
      "metadata": {
        "id": "dxopVBAb6s8r",
        "colab_type": "code",
        "colab": {
          "base_uri": "https://localhost:8080/",
          "height": 125
        },
        "outputId": "ad542e07-f700-40c8-d8d9-5438ac33ef26"
      },
      "source": [
        "from google.colab import drive\n",
        "drive.mount('/content/drive')"
      ],
      "execution_count": null,
      "outputs": [
        {
          "output_type": "stream",
          "text": [
            "Go to this URL in a browser: https://accounts.google.com/o/oauth2/auth?client_id=947318989803-6bn6qk8qdgf4n4g3pfee6491hc0brc4i.apps.googleusercontent.com&redirect_uri=urn%3aietf%3awg%3aoauth%3a2.0%3aoob&response_type=code&scope=email%20https%3a%2f%2fwww.googleapis.com%2fauth%2fdocs.test%20https%3a%2f%2fwww.googleapis.com%2fauth%2fdrive%20https%3a%2f%2fwww.googleapis.com%2fauth%2fdrive.photos.readonly%20https%3a%2f%2fwww.googleapis.com%2fauth%2fpeopleapi.readonly\n",
            "\n",
            "Enter your authorization code:\n",
            "··········\n",
            "Mounted at /content/drive\n"
          ],
          "name": "stdout"
        }
      ]
    },
    {
      "cell_type": "markdown",
      "metadata": {
        "id": "dPzDnQ6Vxiq1",
        "colab_type": "text"
      },
      "source": [
        "# **Import Libraries**"
      ]
    },
    {
      "cell_type": "code",
      "metadata": {
        "id": "upSnOl30xbZl",
        "colab_type": "code",
        "colab": {
          "base_uri": "https://localhost:8080/",
          "height": 72
        },
        "outputId": "e423dfaa-0980-4eef-cfe8-aad488a1bed5"
      },
      "source": [
        "import numpy as np\n",
        "import pandas as pd\n",
        "import matplotlib.pyplot as plt\n",
        "from pandas import DataFrame\n",
        "import string\n",
        "import re\n",
        "import nltk\n",
        "import glob\n",
        "import os\n",
        "import seaborn as sns\n",
        "from google.colab import files\n",
        "import io"
      ],
      "execution_count": null,
      "outputs": [
        {
          "output_type": "stream",
          "text": [
            "/usr/local/lib/python3.6/dist-packages/statsmodels/tools/_testing.py:19: FutureWarning: pandas.util.testing is deprecated. Use the functions in the public API at pandas.testing instead.\n",
            "  import pandas.util.testing as tm\n"
          ],
          "name": "stderr"
        }
      ]
    },
    {
      "cell_type": "markdown",
      "metadata": {
        "id": "iWxvxvkl1sUI",
        "colab_type": "text"
      },
      "source": [
        "# **Import the Stopwords List**"
      ]
    },
    {
      "cell_type": "code",
      "metadata": {
        "id": "gb0z_Qpi17L3",
        "colab_type": "code",
        "colab": {}
      },
      "source": [
        "s = pd.read_csv(io.StringIO(uploaded1['book_stopwords.txt'].decode('UTF-8')))"
      ],
      "execution_count": null,
      "outputs": []
    },
    {
      "cell_type": "markdown",
      "metadata": {
        "id": "R2tQXQlb81_Z",
        "colab_type": "text"
      },
      "source": [
        "# **Import the dataset and Stopwords list from Drive**"
      ]
    },
    {
      "cell_type": "code",
      "metadata": {
        "id": "PvQYXeik8Yxa",
        "colab_type": "code",
        "colab": {}
      },
      "source": [
        "# Dataset Read\n",
        "df = pd.read_csv('/content/drive/My Drive/Colab Notebooks/NLP Projects/Book Review Classification/RokomariBookReviews.csv',encoding='UTF-8')\n",
        "# Stop word List\n",
        "s = open('/content/drive/My Drive/Colab Notebooks/NLP Projects/Book Review Classification/stopwords-bn.txt',encoding = 'UTF-8')\n",
        "t = s.read().split()"
      ],
      "execution_count": null,
      "outputs": []
    },
    {
      "cell_type": "markdown",
      "metadata": {
        "id": "gJejXlP335cd",
        "colab_type": "text"
      },
      "source": [
        "# **Text Cleaning**"
      ]
    },
    {
      "cell_type": "code",
      "metadata": {
        "id": "cGXEK4m94Cm7",
        "colab_type": "code",
        "colab": {}
      },
      "source": [
        "corpus = []\n",
        "stp=[\"অামার\",\"!\", \"@\",'–', \"#\", \"|\", \"%\", \"(\", \")\", \"।\", \"—\", \".\", \"-\", \"\", \",\", \"’\", \"•\", \"‘\", \":\", \"*\", \"?\", \"০\", \"১\", \"২\", \"৩\", \"৪\", \"৫\", \"৬\", \"৭\", \"৮\", \"৯\"]\n",
        "\n",
        "emoji_pattern = re.compile(\"[\"\n",
        "                       u\"\\U0001F600-\\U0001F64F\"  # emoticons\n",
        "                       u\"\\U0001F300-\\U0001F5FF\"  # symbols & pictographs\n",
        "                       u\"\\U0001F680-\\U0001F6FF\"  # transport & map symbols\n",
        "                       u\"\\U0001F1E0-\\U0001F1FF\"  # flags (iOS)\n",
        "                       u\"\\U00002702-\\U000027B0\"\n",
        "                       u\"\\U000024C2-\\U0001F251\"\n",
        "                       u\"\\U0001f926-\\U0001f937\"\n",
        "                       u\"\\u200d\"\n",
        "                       u\"\\u2640-\\u2642\" \n",
        "                      #u\"\\u0980-\\u09FF\"  # Bangla Text\n",
        "                       u\"\\u09F7\"\n",
        "                       u\"\\u0964\"\n",
        "                       u\"\\u0061-\\u0069\"\n",
        "                       u\"\\u200c\"\n",
        "                       u\"\\u006a-\\u006f\"\n",
        "                      u\"\\u0041-\\u005a\" # Large A-Z\n",
        "                      u\"\\u0061-\\u007a\" # small a-z\n",
        "                      u\"\\u0030-\\u0039\" # 1-9 \n",
        "                      u\"\\u09e7-\\u09ef\" #১-৯\n",
        "                       #u\"\\u0070 -\\u0079\"\n",
        "                       #u\"\\u007a\"\n",
        "                         u\"\\u0965\"\n",
        "                         u\"\\u201c\"\n",
        "                         u\"\\u201d\"\n",
        "                          u\"\\u2018\" \n",
        "                          u\"\\u2019\"\n",
        "                          u\"\\u2013\"\n",
        "                          u\"\\u2014\"\n",
        "                          u\"\\u1f914\"\n",
        "                          \n",
        "                       \"]+\", flags=re.UNICODE)\n",
        "\n",
        "# Cleaing the text\n",
        "for i in range(0,1000):\n",
        " \n",
        "  clean = re.sub(r\"[,.;@#?!&$0-9£]\",\" \", df['Review'][i])\n",
        "  clean = emoji_pattern.sub(r'', df['Review'][i])    \n",
        "\n",
        "  #result = clean.translate(str.maketrans(' ',' ', string.punctuation))\n",
        "  result= re.sub('['+string.punctuation+']', ' ', clean)\n",
        "      \n",
        "  result = result.split()\n",
        "\n",
        "\n",
        "  review = [word for word in result if not word in t and stp ]\n",
        "  review =' '.join(review)\n",
        "  corpus.append(review)\n",
        "    "
      ],
      "execution_count": null,
      "outputs": []
    },
    {
      "cell_type": "code",
      "metadata": {
        "id": "ZeWu-2Lj4oU-",
        "colab_type": "code",
        "colab": {}
      },
      "source": [
        "corpus\n"
      ],
      "execution_count": null,
      "outputs": []
    },
    {
      "cell_type": "markdown",
      "metadata": {
        "id": "VpsF-4I3YfDB",
        "colab_type": "text"
      },
      "source": [
        "# **Supress Warning Messages**"
      ]
    },
    {
      "cell_type": "code",
      "metadata": {
        "id": "1tf9HwmnYj_-",
        "colab_type": "code",
        "colab": {}
      },
      "source": [
        "def remove_warnings():\n",
        "  # import warnings filter\n",
        "  from warnings import simplefilter\n",
        "  # ignore all future warnings\n",
        "  simplefilter(action='ignore', category=FutureWarning)"
      ],
      "execution_count": null,
      "outputs": []
    },
    {
      "cell_type": "markdown",
      "metadata": {
        "id": "WIGVb4Ef-1dw",
        "colab_type": "text"
      },
      "source": [
        "# **Installing Bangla Fonts**"
      ]
    },
    {
      "cell_type": "code",
      "metadata": {
        "id": "nspu-4rU-6CG",
        "colab_type": "code",
        "colab": {}
      },
      "source": [
        "from __future__ import unicode_literals\n",
        "import matplotlib.font_manager as fm\n",
        "import matplotlib.pyplot as plt\n",
        "font_path = '/content/drive/My Drive/Colab Notebooks/NLP Projects/Book Review Classification/kalpurush.ttf'\n",
        "prop = fm.FontProperties(fname=font_path)\n",
        "\n"
      ],
      "execution_count": null,
      "outputs": []
    },
    {
      "cell_type": "markdown",
      "metadata": {
        "id": "kEhxKH2l4Y9D",
        "colab_type": "text"
      },
      "source": [
        "# **Most Frequent Words**"
      ]
    },
    {
      "cell_type": "code",
      "metadata": {
        "id": "bTjUWhWh4btj",
        "colab_type": "code",
        "colab": {
          "base_uri": "https://localhost:8080/",
          "height": 664
        },
        "outputId": "05ac0169-8a5e-4b2b-97c3-4d8cd8bbc84a"
      },
      "source": [
        "clean_data = pd.DataFrame(corpus,columns=[\"Review\"])    \n",
        "clean_data['liked'] = df.iloc[:,1]    \n",
        "\n",
        "reviews = clean_data.Review.str.cat(sep=' ')\n",
        "tokens = reviews.split()\n",
        "frequency_dist = nltk.FreqDist(tokens).most_common(500)\n",
        "#a= frequency_dist.most_common(50)\n",
        "\n",
        "#print(frequency_dist[50:70])\n",
        "#frequency_dist.plot()\n",
        "length = len(frequency_dist)\n",
        "\n",
        "vals_films = [x[1] for x in frequency_dist]\n",
        "legends_films = [x[0] for x in frequency_dist]\n",
        "\n",
        "#fig, ax = plt.subplots()\n",
        "\n",
        "index = np.arange(length)\n",
        "bar_width = 0.2\n",
        "opacity = 0.8\n",
        "plt.figure(figsize=(20,10))\n",
        "barplot = plt.bar(index, vals_films, bar_width,\n",
        "                 alpha=opacity,\n",
        "                 color='b',\n",
        "                 label='Ocurrences')\n",
        "\n",
        "#plt.figure(figsize=(20,10))\n",
        "plt.xlabel('Occurrences')\n",
        "plt.ylabel('Words')\n",
        "plt.title('Occurrences by word')\n",
        "plt.xticks(index + bar_width, legends_films,rotation=90,fontproperties=prop)\n",
        "plt.legend()\n",
        "#plt.tight_layout()\n",
        "plt.show()"
      ],
      "execution_count": null,
      "outputs": [
        {
          "output_type": "display_data",
          "data": {
            "image/png": "[encoded data removed]",
            "text/plain": [
              "<Figure size 1440x720 with 1 Axes>"
            ]
          },
          "metadata": {
            "tags": [],
            "needs_background": "light"
          }
        }
      ]
    },
    {
      "cell_type": "code",
      "metadata": {
        "id": "McdyE7FFVcp2",
        "colab_type": "code",
        "colab": {
          "base_uri": "https://localhost:8080/",
          "height": 54
        },
        "outputId": "7028ad6d-29d1-4ee0-eb0a-9c751ac58585"
      },
      "source": [
        "print(frequency_dist)"
      ],
      "execution_count": null,
      "outputs": [
        {
          "output_type": "stream",
          "text": [
            "[('বই', 705), ('বইটি', 292), ('ভালো', 267), ('একটা', 218), ('বইটা', 152), ('হয়েছে', 132), ('ভাল', 125), ('অসাধারণ', 120), ('বইয়ের', 111), ('এক', 109), ('অনুবাদ', 109), ('পড়ে', 108), ('লেখক', 104), ('খুবই', 101), ('লেখা', 89), ('পড়া', 83), ('সুন্দর', 80), ('শেষ', 69), ('লেগেছে', 68), ('সাথে', 64), ('গল্প', 60), ('বাজে', 60), ('পড়তে', 59), ('মত', 58), ('ধন্যবাদ', 57), ('অসাধারন', 57), ('হয়ে', 56), ('কথা', 55), ('দিয়ে', 54), ('পড়ার', 53), ('যায়', 52), ('উপন্যাস', 50), ('আরো', 49), ('বাংলা', 48), ('ফালতু', 45), ('আশা', 44), ('সময়', 43), ('কাহিনী', 43), ('লেখকের', 42), ('চমৎকার', 42), ('টা', 41), ('ভুল', 38), ('লাগে', 36), ('একজন', 36), ('হিসেবে', 36), ('গল্পের', 35), ('খারাপ', 33), ('নাম', 33), ('বইটিতে', 33), ('সহজ', 32), ('ভাই', 32), ('হতাশ', 32), ('কথায়', 31), ('লেখার', 31), ('কিভাবে', 30), ('টাকা', 30), ('প্রোগ্রামিং', 30), ('বইটির', 29), ('হয়নি', 29), ('ছোট', 29), ('সেরা', 29), ('সম্পর্কে', 28), ('নষ্ট', 28), ('নি', 28), ('সবচেয়ে', 27), ('এরকম', 26), ('পাঠক', 26), ('চরিত্র', 26), ('একটু', 25), ('মানুষ', 25), ('কিনে', 25), ('লাগেনি', 25), ('জীবনে', 24), ('কঠিন', 23), ('বইতে', 23), ('বুঝতে', 22), ('০', 22), ('পুরো', 22), ('উপহার', 22), ('কম', 21), ('ইতিহাস', 21), ('চেয়ে', 21), ('লাগবে', 21), ('এতো', 21), ('রেটিং', 21), ('কেমন', 21), ('মানুষের', 21), ('জাফর', 21), ('বইটার', 21), ('পড়েছি', 20), ('বানান', 20), ('ভাষায়', 20), ('জঘন্য', 20), ('ভাষার', 20), ('বিরক্তিকর', 20), ('একদম', 20), ('তথ্য', 20), ('বড়', 20), ('অত্যন্ত', 20), ('চাই', 20), ('উচিৎ', 19), ('প্রকাশ', 19), ('বের', 19), ('পড়ে', 19), ('লিখা', 18), ('মজা', 18), ('রয়েছে', 17), ('মান', 17), ('বইয়ের', 17), ('সবাই', 17), ('পৃষ্ঠা', 17), ('সত্যি', 17), ('ইচ্ছা', 17), ('আসলে', 17), ('হয়েছি', 17), ('লাগলো', 17), ('করছি', 17), ('জীবনের', 17), ('জানার', 17), ('অন্যতম', 17), ('রিভিউ', 16), ('করুন', 16), ('গুলো', 16), ('লিখেছেন', 16), ('করলাম', 16), ('আগ্রহ', 16), ('অন্যান্য', 16), ('হাতে', 16), ('হয়তো', 16), ('উপন্যাসের', 16), ('বিজ্ঞানের', 16), ('শেয়ার', 16), ('বইয়ে', 15), ('লিখতে', 15), ('সম্ভব', 15), ('দারুণ', 15), ('থ্রিলার', 15), ('বিষয়', 15), ('কষ্ট', 15), ('জানি', 15), ('সহজে', 15), ('শেখার', 15), ('ছাড়া', 14), ('অবশ্যই', 14), ('জায়গায়', 14), ('বলার', 14), ('বেস্ট', 14), ('স্যারের', 14), ('ইকবাল', 14), ('পড়লে', 14), ('সিরিজের', 14), ('মূল', 14), ('স্যার', 14), ('মানের', 13), ('শব্দ', 13), ('দেখি', 13), ('ধরনের', 13), ('বইগুলোর', 13), ('মিসির', 13), ('ছিলো', 13), ('জীবন', 13), ('দিয়েছেন', 12), ('অতি', 12), ('পড়লাম', 12), ('মানে', 12), ('ভাষা', 12), ('সাহিত্যের', 12), ('মোটেও', 12), ('মা', 12), ('বিক্রি', 12), ('মন', 12), ('দেয়ার', 12), ('হতো', 12), ('কপি', 12), ('থাকলে', 12), ('অনুবাদের', 12), ('জন্যে', 12), ('অনুরোধ', 12), ('কিছুটা', 12), ('মেয়ে', 12), ('উপস্থাপন', 12), ('নিঃসন্দেহে', 12), ('লাগছে', 12), ('মাঝে', 12), ('কাহিনীর', 12), ('পারবেন', 12), ('হইল', 12), ('শিখতে', 12), ('বিজ্ঞান', 12), ('মজার', 12), ('এসব', 11), ('অসংখ্য', 11), ('দেয়া', 11), ('প্রিয়', 11), ('আপনাকে', 11), ('প্রকাশনী', 11), ('করেছিলাম', 11), ('আহমেদ', 11), ('পারলাম', 11), ('প্রেম', 11), ('ভাইয়ের', 11), ('পড়া', 11), ('রহস্য', 11), ('গল্পে', 11), ('ফুটিয়ে', 11), ('মেমসাহেব', 11), ('লরেঞ্জ', 11), ('কোথাও', 11), ('নিজেকে', 11), ('অসম্ভব', 11), ('দারুন', 11), ('সহায়ক', 11), ('লিখে', 10), ('প্রকাশিত', 10), ('রকমারি', 10), ('মাথায়', 10), ('অখাদ্য', 10), ('সস্তা', 10), ('মিলিয়ে', 10), ('অনুবাদকের', 10), ('ধারণা', 10), ('হলাম', 10), ('গুরুত্বপূর্ণ', 10), ('কারণে', 10), ('ছাত্র', 10), ('বুঝলাম', 10), ('বেশী', 10), ('কখনো', 10), ('মিল', 10), ('বর্ণনা', 10), ('পছন্দ', 10), ('মনের', 10), ('দিয়েছে', 10), ('গ্রন্থ', 10), ('ধারনা', 10), ('প্রতিটি', 10), ('দরকার', 10), ('শ্রেষ্ঠ', 10), ('উপকৃত', 10), ('বাজার', 10), ('বলবো', 9), ('পেজ', 9), ('পাই', 9), ('সম্পূর্ণ', 9), ('পুরাই', 9), ('গেলো', 9), ('ভাষাকে', 9), ('আসে', 9), ('ইংরেজি', 9), ('রকমারির', 9), ('লক্ষ্য', 9), ('এইটা', 9), ('বাবা', 9), ('অপেক্ষা', 9), ('অনেকটা', 9), ('বলব', 9), ('দুর্বল', 9), ('হারিয়ে', 9), ('দিতাম', 9), ('করিনি', 9), ('কিশোর', 9), ('অনুবাদক', 9), ('চায়', 9), ('দিক', 9), ('কারো', 9), ('ঘটনা', 9), ('নামের', 9), ('ফিকশন', 9), ('লাগল', 9), ('পেলাম', 9), ('খুজে', 9), ('হয়েছিল', 9), ('মুক্তিযুদ্ধের', 9), ('ব্যর্থ', 9), ('বিরক্ত', 9), ('সময়ের', 9), ('যুক্তি', 9), ('আসবে', 9), ('পাঠ্য', 9), ('মাথা', 9), ('পাঠকের', 9), ('দিবে', 9), ('সকল', 9), ('বিশ্বাস', 9), ('পাওয়া', 9), ('নামে', 9), ('সাইন্স', 9), ('পাতায়', 9), ('ভয়', 9), ('দ্য', 9), ('লেখককে', 9), ('ভাইয়া', 9), ('পারবে', 8), ('তে', 8), ('কেনার', 8), ('আপনাদের', 8), ('বইটিকে', 8), ('বাংলাদেশের', 8), ('হাস্যকর', 8), ('রাখার', 8), ('অপমান', 8), ('জানাই', 8), ('জ্ঞান', 8), ('ধরণের', 8), ('দেয়', 8), ('দেওয়ার', 8), ('অফ', 8), ('বোঝা', 8), ('তৈরি', 8), ('প্রচুর', 8), ('হওয়া', 8), ('রচনা', 8), ('পড়ি', 8), ('এতটা', 8), ('লেখনী', 8), ('রইল', 8), ('চোখে', 8), ('জিনিস', 8), ('অদ্ভুত', 8), ('চরিত্রের', 8), ('একেবারে', 8), ('শেষটা', 8), ('উপন্যাসটি', 8), ('বাকি', 8), ('মুক্তিযুদ্ধ', 8), ('প্রধান', 8), ('পারলে', 8), ('আলী', 8), ('পড়তে', 8), ('হুমায়ূন', 8), ('অবস্থা', 8), ('০০', 8), ('বাধ্য', 8), ('করেছি', 8), ('উত্তম', 8), ('ব্রাউন', 8), ('কিনা', 8), ('শেষে', 8), ('বিষয়ে', 8), ('পড়ছি', 8), ('খুবি', 8), ('করব', 8), ('পাঠকদের', 8), ('লেখকদের', 8), ('সত্যিই', 8), ('পাশাপাশি', 8), ('সংগ্রহে', 7), ('আলোচনা', 7), ('দিলাম', 7), ('পারছি', 7), ('টাইপ', 7), ('ফেলে', 7), ('প্রচ্ছদ', 7), ('ইউটিউব', 7), ('দেখলে', 7), ('প্লট', 7), ('বাস্তব', 7), ('সংগ্রহ', 7), ('কিনেছিলাম', 7), ('সমস্যা', 7), ('পেয়েছি', 7), ('প্রাঞ্জল', 7), ('দুঃখজনক', 7), ('পাইনি', 7), ('জলে', 7), ('রাখতে', 7), ('প্রতিটা', 7), ('ভেবে', 7), ('কেবল', 7), ('ক্লাস', 7), ('শুরুটা', 7), ('আসলেই', 7), ('নাজিম', 7), ('সৃষ্টি', 7), ('মৌলিক', 7), ('যতটুকু', 7), ('জন্যই', 7), ('তোলা', 7), ('ভালোবাসা', 7), ('সায়েন্স', 7), ('কারন', 7), ('পৃথিবীর', 7), ('পুরোপুরি', 7), ('হবার', 7), ('এককথায়', 7), ('আরিফ', 7), ('কীভাবে', 7), ('ভরা', 7), ('ভিতরে', 7), ('আনন্দ', 7), ('একদমই', 7), ('শেষের', 7), ('আহমেদের', 7), ('পুরা', 7), ('যেটা', 7), ('পড়িনি', 7), ('যাই', 7), ('ব্যবসা', 7), ('সম্ভবত', 7), ('সবারই', 7), ('শুধুমাত্র', 7), ('উদাহরণ', 7), ('বাদ', 7), ('সাজানো', 7), ('দের', 7), ('ব্যাখ্যা', 7), ('কোয়ালিটি', 7), ('দ্বিতীয়', 7), ('কামনা', 7), ('সাবলীল', 7), ('শেখা', 7), ('হয়ত', 7), ('আটকে', 7), ('চমক', 7), ('বেসিক', 7), ('সুন্দরভাবে', 7), ('ভাইকে', 7), ('ঝংকার', 7), ('আল্লাহ', 7), ('অনন্য', 7), ('মায়ান', 7), ('অসীম', 7), ('অপ্রয়োজনীয়', 6), ('সংখ্যা', 6), ('কয়েকটি', 6), ('উদাহরন', 6), ('টিউটোরিয়াল', 6), ('প্রশ্ন', 6), ('আফসোস', 6), ('কিনবেন', 6), ('চাইলে', 6), ('দাম', 6), ('সুযোগ', 6), ('অমর', 6), ('বইমেলা', 6), ('পৃষ্ঠার', 6), ('বাংলায়', 6), ('গেছেন', 6), ('স্টার', 6), ('আশাহত', 6), ('ব্যক্তিগত', 6), ('সংস্করণ', 6), ('লাইন', 6), ('হওয়ার', 6), ('দেশে', 6), ('পাওয়ার', 6), ('রকমারিকে', 6), ('থাকতে', 6), ('এখনো', 6), ('একমাত্র', 6), ('জিজ্ঞাসা', 6), ('জোর', 6), ('সমাধান', 6), ('আলি', 6), ('দেবে', 6), ('নেগেটিভ', 6), ('উপন্যাসগুলোর', 6), ('লুতুপুতু', 6), ('যেভাবে', 6), ('দিল', 6), ('পড়লেই', 6), ('পড়েছিলাম', 6), ('মূলত', 6), ('পার', 6), ('খানিকটা', 6), ('হচ্ছিল', 6), ('বাস্তবতা', 6), ('স্বাদ', 6), ('ইংরেজী', 6), ('জানতাম', 6), ('মতন', 6), ('যাচ্ছেন', 6), ('অন্ধকার', 6), ('সকলের', 6), ('পথ', 6), ('ইতিহাসের', 6), ('চিন্তা', 6), ('আছেন', 6), ('যেকোন', 6), ('কয়েকটা', 6), ('ঘটনার', 6), ('জানেন', 6), ('পাতার', 6), ('বিশাল', 6), ('মানসিক', 6), ('দেখুন', 6), ('ভয়ঙ্কর', 6), ('বৃষ্টি', 6), ('ভক্ত', 6), ('উনার', 6), ('আছি', 6), ('প্রয়োজন', 6), ('জোস', 6), ('তেমনি', 6), ('তথ্যবহুল', 6), ('দেবার', 6), ('মুগ্ধ', 6), ('হাসান', 6), ('সরল', 6), ('টুম্পা', 6)]\n"
          ],
          "name": "stdout"
        }
      ]
    },
    {
      "cell_type": "code",
      "metadata": {
        "id": "RdIp7GGtVJAC",
        "colab_type": "code",
        "colab": {
          "base_uri": "https://localhost:8080/",
          "height": 34
        },
        "outputId": "a1a4c1d0-506d-4291-94f1-23040a5fbc4e"
      },
      "source": [
        "np.shape(tokens)"
      ],
      "execution_count": null,
      "outputs": [
        {
          "output_type": "execute_result",
          "data": {
            "text/plain": [
              "(25852,)"
            ]
          },
          "metadata": {
            "tags": []
          },
          "execution_count": 12
        }
      ]
    },
    {
      "cell_type": "code",
      "metadata": {
        "id": "xdlq1LBaX0mP",
        "colab_type": "code",
        "colab": {
          "base_uri": "https://localhost:8080/",
          "height": 34
        },
        "outputId": "b2c22b73-c52f-4d44-d0c4-147b38be74d5"
      },
      "source": [
        "frequency_dist = nltk.FreqDist(tokens).most_common()\n",
        "np.shape(frequency_dist )"
      ],
      "execution_count": null,
      "outputs": [
        {
          "output_type": "execute_result",
          "data": {
            "text/plain": [
              "(6017, 2)"
            ]
          },
          "metadata": {
            "tags": []
          },
          "execution_count": 11
        }
      ]
    },
    {
      "cell_type": "markdown",
      "metadata": {
        "id": "99UzHUUhdoWw",
        "colab_type": "text"
      },
      "source": [
        "# **Most Appearing Positive words**"
      ]
    },
    {
      "cell_type": "code",
      "metadata": {
        "id": "U3il4c7XZ7lm",
        "colab_type": "code",
        "colab": {}
      },
      "source": [
        "positive_word_list = open('/content/drive/My Drive/Colab Notebooks/NLP Projects/Book Review Classification/porsitive words.txt',encoding = 'UTF-8')\n",
        "positive_word_list = positive_word_list.read().split()"
      ],
      "execution_count": null,
      "outputs": []
    },
    {
      "cell_type": "code",
      "metadata": {
        "id": "hZAONo7gakUv",
        "colab_type": "code",
        "colab": {
          "base_uri": "https://localhost:8080/",
          "height": 622
        },
        "outputId": "28ef5252-8a31-4dae-d8b1-518c58fb601e"
      },
      "source": [
        "p_list = []\n",
        "\n",
        "for w in positive_word_list:\n",
        "  for w1,f1 in frequency_dist:\n",
        "    if w == w1:\n",
        "     #print(f1)\n",
        "     p_list.append((w,f1))\n",
        "  \n",
        "length = len(p_list)\n",
        "\n",
        "vals_films = [x[1] for x in p_list]\n",
        "legends_films = [x[0] for x in p_list]\n",
        "\n",
        "#fig, ax = plt.subplots()\n",
        "\n",
        "index = np.arange(length)\n",
        "bar_width = 0.2\n",
        "opacity = 0.8\n",
        "plt.figure(figsize=(10,10))\n",
        "barplot = plt.bar(index, vals_films, bar_width,\n",
        "                 alpha=opacity,\n",
        "                 color='b',\n",
        "                 label='Ocurrences')\n",
        "\n",
        "\n",
        "plt.xlabel('Words')\n",
        "plt.ylabel('Occurrences')\n",
        "plt.title('Most Appearing Positive words')\n",
        "plt.xticks(index + bar_width, legends_films,fontproperties=prop)\n",
        "plt.legend()\n",
        "#plt.tight_layout()\n",
        "plt.show()        \n"
      ],
      "execution_count": null,
      "outputs": [
        {
          "output_type": "display_data",
          "data": {
            "image/png": "[encoded data removed]",
            "text/plain": [
              "<Figure size 720x720 with 1 Axes>"
            ]
          },
          "metadata": {
            "tags": []
          }
        }
      ]
    },
    {
      "cell_type": "code",
      "metadata": {
        "id": "v3gayKXRcBj8",
        "colab_type": "code",
        "colab": {
          "base_uri": "https://localhost:8080/",
          "height": 54
        },
        "outputId": "880d0403-9dbd-4584-bf16-da1741b76a4f"
      },
      "source": [
        "print(p_list)"
      ],
      "execution_count": null,
      "outputs": [
        {
          "output_type": "stream",
          "text": [
            "[('ভালো', 267), ('ভাল', 125), ('অসাধারণ', 120), ('সুন্দর', 80), ('অসাধারন', 57), ('ধন্যবাদ', 57), ('চমৎকার', 42), ('সেরা', 29), ('দারুণ', 15), ('সহজ', 32)]\n"
          ],
          "name": "stdout"
        }
      ]
    },
    {
      "cell_type": "markdown",
      "metadata": {
        "id": "vCu7a-iXCDw9",
        "colab_type": "text"
      },
      "source": [
        "# **Most appearing Negative Words**"
      ]
    },
    {
      "cell_type": "code",
      "metadata": {
        "id": "Z0UbeZAGeB_V",
        "colab_type": "code",
        "colab": {}
      },
      "source": [
        "negative_word_list = open('/content/drive/My Drive/Colab Notebooks/NLP Projects/Book Review Classification/negative words.txt',encoding = 'UTF-8')\n",
        "negative_word_list = negative_word_list.read().split()"
      ],
      "execution_count": null,
      "outputs": []
    },
    {
      "cell_type": "code",
      "metadata": {
        "id": "xZzx1Pf6eVKH",
        "colab_type": "code",
        "colab": {
          "base_uri": "https://localhost:8080/",
          "height": 623
        },
        "outputId": "fa793745-0751-4f5c-c7fe-c21315a3b1a6"
      },
      "source": [
        "n_list = []\n",
        "\n",
        "for w in negative_word_list:\n",
        "  for w1,f1 in frequency_dist:\n",
        "    if w == w1:\n",
        "     #print(f1)\n",
        "     n_list.append((w,f1))\n",
        "      \n",
        "length = len(n_list)\n",
        "\n",
        "vals_films = [x[1] for x in n_list]\n",
        "legends_films = [x[0] for x in n_list]\n",
        "\n",
        "#fig, ax = plt.subplots()\n",
        "\n",
        "index = np.arange(length)\n",
        "bar_width = 0.2\n",
        "opacity = 0.8\n",
        "plt.figure(figsize=(10,10))\n",
        "barplot = plt.bar(index, vals_films, bar_width,\n",
        "                 alpha=opacity,\n",
        "                 color='b',\n",
        "                 label='Ocurrences')\n",
        "\n",
        "\n",
        "plt.xlabel('Words')\n",
        "plt.ylabel('Occurrences')\n",
        "plt.title('Most Appearing Negative words')\n",
        "plt.xticks(index + bar_width, legends_films,fontproperties=prop)\n",
        "plt.legend()\n",
        "#plt.tight_layout()\n",
        "plt.show()  \n",
        "#\n",
        "#plt.savefig('result.jpg')"
      ],
      "execution_count": null,
      "outputs": [
        {
          "output_type": "display_data",
          "data": {
            "image/png": "[encoded data removed]",
            "text/plain": [
              "<Figure size 720x720 with 1 Axes>"
            ]
          },
          "metadata": {
            "tags": []
          }
        }
      ]
    },
    {
      "cell_type": "code",
      "metadata": {
        "id": "MRS21ytQbGL3",
        "colab_type": "code",
        "colab": {
          "base_uri": "https://localhost:8080/",
          "height": 54
        },
        "outputId": "271a5cfc-5a7f-4f4c-9268-afebcc75d3e1"
      },
      "source": [
        "print(n_list)"
      ],
      "execution_count": null,
      "outputs": [
        {
          "output_type": "stream",
          "text": [
            "[('বাজে', 60), ('ফালতু', 45), ('ভুল', 38), ('খারাপ', 33), ('হতাশ', 32), ('নষ্ট', 28), ('লাগেনি', 25), ('জঘন্য', 20), ('বিরক্তিকর', 20), ('অখাদ্য', 10)]\n"
          ],
          "name": "stdout"
        }
      ]
    },
    {
      "cell_type": "markdown",
      "metadata": {
        "id": "hvG9_08dJMtE",
        "colab_type": "text"
      },
      "source": [
        "# **TF-IDF Unigram**"
      ]
    },
    {
      "cell_type": "code",
      "metadata": {
        "id": "ei-F5x_JJaVB",
        "colab_type": "code",
        "colab": {}
      },
      "source": [
        "from sklearn.feature_extraction.text import TfidfVectorizer\n",
        "cv = TfidfVectorizer() \n",
        "X = cv.fit_transform(corpus).toarray()\n",
        "#X = pd.DataFrame(cv.transform(corpus).toarray(), columns=sorted(cv.vocabulary_.keys()))\n",
        "\n",
        "y = clean_data.iloc[:,1].values.astype(int)"
      ],
      "execution_count": null,
      "outputs": []
    },
    {
      "cell_type": "code",
      "metadata": {
        "id": "QsFJxEh-_H4V",
        "colab_type": "code",
        "colab": {
          "base_uri": "https://localhost:8080/",
          "height": 34
        },
        "outputId": "b2f81197-2316-4a65-980d-b288b35ace3e"
      },
      "source": [
        "X.shape"
      ],
      "execution_count": null,
      "outputs": [
        {
          "output_type": "execute_result",
          "data": {
            "text/plain": [
              "(1000, 1364)"
            ]
          },
          "metadata": {
            "tags": []
          },
          "execution_count": 11
        }
      ]
    },
    {
      "cell_type": "markdown",
      "metadata": {
        "id": "7FJsSi5hcMoo",
        "colab_type": "text"
      },
      "source": [
        "**Feature Selection (Chi Square)**"
      ]
    },
    {
      "cell_type": "code",
      "metadata": {
        "id": "Pn51qNKeaCMX",
        "colab_type": "code",
        "colab": {}
      },
      "source": [
        "from sklearn import tree\n",
        "from sklearn.decomposition import TruncatedSVD\n",
        "from sklearn.feature_selection import chi2\n",
        "\n",
        "from sklearn.preprocessing import Normalizer\n",
        "from sklearn.pipeline import make_pipeline\n",
        "\n",
        "from sklearn.feature_selection import SelectFromModel\n",
        "from sklearn.feature_selection import SelectKBest\n",
        "\n",
        "chi2_model = SelectKBest(chi2,k=1200)\n",
        "dtm = chi2_model.fit_transform(X,y)\n"
      ],
      "execution_count": null,
      "outputs": []
    },
    {
      "cell_type": "code",
      "metadata": {
        "id": "JAWo3H16dhiE",
        "colab_type": "code",
        "colab": {}
      },
      "source": [
        "treeCL = tree.DecisionTreeClassifier(criterion=\"entropy\")\n",
        "treeCL = treeCL.fit(X,y)\n",
        "transformed_features = SelectFromModel(treeCL,prefit=True).transform(X)\n",
        "    "
      ],
      "execution_count": null,
      "outputs": []
    },
    {
      "cell_type": "markdown",
      "metadata": {
        "id": "TWsYhvIjJdrF",
        "colab_type": "text"
      },
      "source": [
        "# **TF-IDF Bigram**"
      ]
    },
    {
      "cell_type": "code",
      "metadata": {
        "id": "oNBSOUm6JgpI",
        "colab_type": "code",
        "colab": {}
      },
      "source": [
        "from sklearn.feature_extraction.text import TfidfVectorizer\n",
        "cv = TfidfVectorizer(ngram_range=(2,2)) \n",
        "X = cv.fit_transform(corpus).toarray()\n",
        "#X = pd.DataFrame(cv.transform(corpus).toarray(), columns=sorted(cv.vocabulary_.keys()))\n",
        "\n",
        "y = clean_data.iloc[:,1].values.astype(int)"
      ],
      "execution_count": null,
      "outputs": []
    },
    {
      "cell_type": "code",
      "metadata": {
        "id": "czYkFsxT2SnV",
        "colab_type": "code",
        "colab": {
          "base_uri": "https://localhost:8080/",
          "height": 34
        },
        "outputId": "ada1b445-bea6-4e15-aa9b-a7d4d5ee08e2"
      },
      "source": [
        "np.shape(X)"
      ],
      "execution_count": null,
      "outputs": [
        {
          "output_type": "execute_result",
          "data": {
            "text/plain": [
              "(1000, 8612)"
            ]
          },
          "metadata": {
            "tags": []
          },
          "execution_count": 13
        }
      ]
    },
    {
      "cell_type": "markdown",
      "metadata": {
        "id": "70PEf9evJket",
        "colab_type": "text"
      },
      "source": [
        "# **TF-IDF Trigram**"
      ]
    },
    {
      "cell_type": "code",
      "metadata": {
        "id": "Im097XYmJogO",
        "colab_type": "code",
        "colab": {}
      },
      "source": [
        "from sklearn.feature_extraction.text import TfidfVectorizer\n",
        "cv = TfidfVectorizer(ngram_range=(3,3)) \n",
        "X = cv.fit_transform(corpus).toarray()\n",
        "y = clean_data.iloc[:,1].values.astype(int)"
      ],
      "execution_count": null,
      "outputs": []
    },
    {
      "cell_type": "code",
      "metadata": {
        "id": "mfPOntPsWQQw",
        "colab_type": "code",
        "colab": {
          "base_uri": "https://localhost:8080/",
          "height": 34
        },
        "outputId": "cbf29409-7db3-41a3-ef83-46522f681139"
      },
      "source": [
        "np.shape(X)"
      ],
      "execution_count": null,
      "outputs": [
        {
          "output_type": "execute_result",
          "data": {
            "text/plain": [
              "(1000, 10668)"
            ]
          },
          "metadata": {
            "tags": []
          },
          "execution_count": 43
        }
      ]
    },
    {
      "cell_type": "code",
      "metadata": {
        "id": "oK8zS3DnCoW-",
        "colab_type": "code",
        "colab": {}
      },
      "source": [
        ""
      ],
      "execution_count": null,
      "outputs": []
    },
    {
      "cell_type": "markdown",
      "metadata": {
        "id": "qr_oMVKAJ6xM",
        "colab_type": "text"
      },
      "source": [
        "# **Splitting the Dataset**"
      ]
    },
    {
      "cell_type": "code",
      "metadata": {
        "id": "h2KIsFowJ93V",
        "colab_type": "code",
        "colab": {}
      },
      "source": [
        "############################################ Splitting the dataset\n",
        "from sklearn.model_selection import train_test_split\n",
        "X_train,X_test,y_train,y_test = train_test_split(X,y,test_size = 0.20,random_state = 0)"
      ],
      "execution_count": null,
      "outputs": []
    },
    {
      "cell_type": "code",
      "metadata": {
        "id": "P6ke2yu8Woq4",
        "colab_type": "code",
        "colab": {
          "base_uri": "https://localhost:8080/",
          "height": 34
        },
        "outputId": "2776998a-08b9-4b42-ce87-b6a7719abfad"
      },
      "source": [
        "np.shape(X_train)"
      ],
      "execution_count": null,
      "outputs": [
        {
          "output_type": "execute_result",
          "data": {
            "text/plain": [
              "(800, 1364)"
            ]
          },
          "metadata": {
            "tags": []
          },
          "execution_count": 29
        }
      ]
    },
    {
      "cell_type": "markdown",
      "metadata": {
        "id": "fY89Pfc068AF",
        "colab_type": "text"
      },
      "source": [
        "# **Accuracy calculation**"
      ]
    },
    {
      "cell_type": "code",
      "metadata": {
        "id": "g-mCxDdw67T6",
        "colab_type": "code",
        "colab": {}
      },
      "source": [
        "from sklearn.metrics import classification_report\n",
        "from sklearn.metrics import confusion_matrix\n",
        "def clac(ypred, ytest, classifier):\n",
        "  from sklearn.metrics import confusion_matrix\n",
        " \n",
        "\n",
        "  cm = confusion_matrix(y_pred.round(),y_test)\n",
        "\n",
        "  data = {'y_pred':y_pred.round().tolist(),'y_test':y_test.tolist()}\n",
        "  df = pd.DataFrame(data, columns=['y_test','y_pred'])\n",
        "  print(\"Classifier name: \", classifier)\n",
        "  print(classification_report(y_test, y_pred.round()))\n",
        "  confusion_matrix = pd.crosstab(df['y_test'], df['y_pred'], rownames=['Actual'], colnames=['Predicted'], margins = False)\n",
        "  sns.heatmap(confusion_matrix, annot=True)\n",
        "\n",
        "    \n",
        "  "
      ],
      "execution_count": null,
      "outputs": []
    },
    {
      "cell_type": "markdown",
      "metadata": {
        "id": "mJTUDf9GK9Rp",
        "colab_type": "text"
      },
      "source": [
        "# **Cross Validation**"
      ]
    },
    {
      "cell_type": "code",
      "metadata": {
        "id": "VXnJCOgBLF2_",
        "colab_type": "code",
        "colab": {}
      },
      "source": [
        "def cross_validation(classifier, X_train, y_train,classifier_name):\n",
        "  # Cross Validation\n",
        "  from sklearn.model_selection import cross_val_score\n",
        "  accuracy = cross_val_score(classifier, X_train, y_train, cv = 10, scoring='accuracy')\n",
        "  precision = cross_val_score(classifier, X_train, y_train, cv = 10, scoring='precision')\n",
        "  recall = cross_val_score(classifier, X_train, y_train, cv = 10, scoring='recall')\n",
        "  f1_score = cross_val_score(classifier, X_train, y_train, cv = 10, scoring='f1')\n",
        "  #print('Accuracy {}'.format(accuracy))\n",
        "  #print('Precision {}'.format(precision))\n",
        "  #print('Recall {}'.format(recall))\n",
        "  #print('F1-Score {}'.format(f1_score))\n",
        "\n",
        "\n",
        "  # Intialise data to Dicts of series. \n",
        "  performance_parameters = {'Accuracy' : pd.Series(accuracy, index =['Fold-1', 'Fold-2', 'Fold-3', 'Fold-4','Fold-5','Fold-6','Fold-7','Fold-8','Fold-9','Fold-10']), \n",
        "        'Precision' : pd.Series(precision, index =['Fold-1', 'Fold-2', 'Fold-3', 'Fold-4','Fold-5','Fold-6','Fold-7','Fold-8','Fold-9','Fold-10']),\n",
        "        'Recall' : pd.Series(recall, index =['Fold-1', 'Fold-2', 'Fold-3', 'Fold-4','Fold-5','Fold-6','Fold-7','Fold-8','Fold-9','Fold-10']),\n",
        "        'F1-score' : pd.Series(f1_score, index =['Fold-1', 'Fold-2', 'Fold-3', 'Fold-4','Fold-5','Fold-6','Fold-7','Fold-8','Fold-9','Fold-10'])} \n",
        "\n",
        "  # creates Dataframe. \n",
        "  performance = pd.DataFrame(performance_parameters) \n",
        "  print(\"Performance parameters for 10-Fold Cross Validation for:\",classifier_name)\n",
        "  print(\"\\n\",performance.mean())"
      ],
      "execution_count": null,
      "outputs": []
    },
    {
      "cell_type": "markdown",
      "metadata": {
        "id": "S-Q8rLrSLX1g",
        "colab_type": "text"
      },
      "source": [
        "# **ROC Curve with Cross Validation**"
      ]
    },
    {
      "cell_type": "code",
      "metadata": {
        "id": "mRA-xE9ZLcTG",
        "colab_type": "code",
        "colab": {}
      },
      "source": [
        "  def ROC_crossValidation(classifier,X_train, y_train,classifier_name):\n",
        "    remove_warnings()\n",
        "\n",
        "    ## ROC curve with Cross Validation\n",
        "    from sklearn.model_selection import KFold\n",
        "    from sklearn.metrics import roc_curve,auc\n",
        "    from scipy import interp\n",
        "\n",
        "    plt.figure(figsize=(10,6))\n",
        "    cv = KFold(n_splits=10, shuffle=True, random_state=10)\n",
        "    tprs = []\n",
        "    aucs = []\n",
        "    mean_fpr = np.linspace(0, 1, 100)\n",
        "\n",
        "    i = 0\n",
        "    for train, test in cv.split(X_train, y_train):\n",
        "        probas_ = classifier.fit(X[train], y[train]).predict_proba(X[test])\n",
        "        # Compute ROC curve and area the curve\n",
        "        fpr, tpr, thresholds = roc_curve(y[test], probas_[:, 1])\n",
        "        tprs.append(interp(mean_fpr, fpr, tpr))\n",
        "        tprs[-1][0] = 0.0\n",
        "        roc_auc = auc(fpr, tpr)\n",
        "        aucs.append(roc_auc)\n",
        "        plt.plot(fpr, tpr, lw=1, alpha=0.3,\n",
        "                 label='ROC fold %d (AUC = %0.2f)' % (i, roc_auc))\n",
        "\n",
        "        i += 1\n",
        "    plt.plot([0, 1], [0, 1], linestyle='--', lw=2, color='r',\n",
        "             label='Chance', alpha=.8)\n",
        "\n",
        "    mean_tpr = np.mean(tprs, axis=0)\n",
        "    mean_tpr[-1] = 1.0\n",
        "    mean_auc = auc(mean_fpr, mean_tpr)\n",
        "    std_auc = np.std(aucs)\n",
        "    \n",
        "    plt.plot(mean_fpr, mean_tpr, color='b',\n",
        "             label=r'Mean ROC (AUC = %0.2f $\\pm$ %0.2f)'%(mean_auc, std_auc),\n",
        "             lw=2, alpha=.8)\n",
        "\n",
        "    std_tpr = np.std(tprs, axis=0)\n",
        "    tprs_upper = np.minimum(mean_tpr + std_tpr, 1)\n",
        "    tprs_lower = np.maximum(mean_tpr - std_tpr, 0)\n",
        "    \n",
        "    plt.fill_between(mean_fpr, tprs_lower, tprs_upper, color='grey', alpha=.2,\n",
        "                     label=r'$\\pm$ 1 std. dev.')\n",
        "\n",
        "    print(\"ROC curve of :\",classifier_name)\n",
        "    plt.xlim([-0.05, 1.05])\n",
        "    plt.ylim([-0.05, 1.05])\n",
        "    plt.xlabel('False Positive Rate')\n",
        "    plt.ylabel('True Positive Rate')\n",
        "    plt.title('Receiver operating characteristic Curve')\n",
        "    plt.legend(loc=\"lower right\")\n",
        "    plt.show()"
      ],
      "execution_count": null,
      "outputs": []
    },
    {
      "cell_type": "markdown",
      "metadata": {
        "id": "1o9VwRRrLeEx",
        "colab_type": "text"
      },
      "source": [
        "# **PR curve with Cross Validation**"
      ]
    },
    {
      "cell_type": "code",
      "metadata": {
        "id": "OPy_xgCRLiGK",
        "colab_type": "code",
        "colab": {}
      },
      "source": [
        "def PRC_crossValidation(classifier,X_train,y_train,classifier_name):\n",
        "\n",
        "  remove_warnings()\n",
        "  ## Precision Recall curve with Cross Validation\n",
        "\n",
        "  from sklearn.metrics import precision_recall_curve, auc\n",
        "  from sklearn.model_selection import KFold\n",
        "  from numpy import interp\n",
        "\n",
        "\n",
        "  plt.figure(figsize=(10,6))\n",
        "  k_fold = KFold(n_splits=10, shuffle=True, random_state=10)\n",
        "\n",
        "\n",
        "  y_real = []\n",
        "  y_proba = []\n",
        "\n",
        "  precision_array = []\n",
        "  threshold_array=[]\n",
        "  recall_array = np.linspace(0, 1, 100)\n",
        "\n",
        "  for i, (train_index, test_index) in enumerate(k_fold.split(X)):\n",
        "      X_train, X_test = X[train_index], X[test_index]\n",
        "      y_train, y_test = y[train_index], y[test_index]\n",
        "      classifier.fit(X_train, y_train)\n",
        "      pred_proba = classifier.predict_proba(X_test)\n",
        "      precision_fold, recall_fold, thresh = precision_recall_curve(y_test, pred_proba[:,1])\n",
        "      precision_fold, recall_fold, thresh = precision_fold[::-1], recall_fold[::-1], thresh[::-1]  # reverse order of results\n",
        "      thresh = np.insert(thresh, 0, 1.0)\n",
        "      precision_array = interp(recall_array, recall_fold, precision_fold)\n",
        "      threshold_array = interp(recall_array, recall_fold, thresh)\n",
        "      pr_auc = auc(recall_array, precision_array)\n",
        "\n",
        "      lab_fold = 'Fold %d AUC=%.4f' % (i+1, pr_auc)\n",
        "      plt.plot(recall_fold, precision_fold, alpha=0.3, label=lab_fold)\n",
        "      y_real.append(y_test)\n",
        "      y_proba.append(pred_proba[:,1])\n",
        "\n",
        "  y_real = np.concatenate(y_real)\n",
        "  y_proba = np.concatenate(y_proba)\n",
        "  precision, recall, _ = precision_recall_curve(y_real, y_proba)\n",
        "  lab = 'Overall AUC=%.4f' % (auc(recall, precision))\n",
        "\n",
        "  plt.plot(recall, precision, lw=2,color='red', label=lab)\n",
        "\n",
        "  plt.legend(loc='lower left', fontsize='small')\n",
        "\n",
        "  mean_precision = np.mean(precision_array)\n",
        "  std_precision = np.std(precision_array)\n",
        "  print(\"Precision-Recall Curve of :\",classifier_name)\n",
        "  plt.fill_between(recall, precision + std_precision, precision - std_precision, alpha=0.3, linewidth=0, color=\"none\")\n",
        "  plt.xlim([-0.05, 1.05])\n",
        "  plt.ylim([-0.05, 1.05])\n",
        "  plt.xlabel('Recall')\n",
        "  plt.ylabel('Precision')\n",
        "  plt.title('Precision Recall Curve')\n",
        "  plt.legend(loc=\"lower left\")\n",
        "  plt.show()\n",
        "\n",
        "  #f.tight_layout()\n",
        "  #f.savefig('result.png')\n"
      ],
      "execution_count": null,
      "outputs": []
    },
    {
      "cell_type": "markdown",
      "metadata": {
        "id": "LPjajE1oLrsy",
        "colab_type": "text"
      },
      "source": [
        "# **Plot the Learning Curve**"
      ]
    },
    {
      "cell_type": "code",
      "metadata": {
        "id": "1peCWcLMLx52",
        "colab_type": "code",
        "colab": {}
      },
      "source": [
        "############################## Plot the Learning Curve\n",
        "\n",
        "from sklearn.model_selection import learning_curve\n",
        "from sklearn.model_selection import ShuffleSplit\n",
        "\n",
        "\n",
        "def plot_learning_curve(estimator, title, X, y, ylim=None, cv=None,\n",
        "                        n_jobs=None, train_sizes=np.linspace(.1, 1.0, 5)):\n",
        "   \n",
        "    plt.figure()\n",
        "    plt.title(title)\n",
        "    if ylim is not None:\n",
        "        plt.ylim(*ylim)\n",
        "    plt.xlabel(\"Training examples\")\n",
        "    plt.ylabel(\"Score\")\n",
        "    train_sizes, train_scores, test_scores = learning_curve(\n",
        "        estimator, X, y, cv=cv, n_jobs=n_jobs, train_sizes=train_sizes)\n",
        "    train_scores_mean = np.mean(train_scores, axis=1)\n",
        "    train_scores_std = np.std(train_scores, axis=1)\n",
        "    test_scores_mean = np.mean(test_scores, axis=1)\n",
        "    test_scores_std = np.std(test_scores, axis=1)\n",
        "    plt.grid()\n",
        "\n",
        "    plt.fill_between(train_sizes, train_scores_mean - train_scores_std,\n",
        "                     train_scores_mean + train_scores_std, alpha=0.1,\n",
        "                     color=\"r\")\n",
        "    plt.fill_between(train_sizes, test_scores_mean - test_scores_std,\n",
        "                     test_scores_mean + test_scores_std, alpha=0.1, color=\"g\")\n",
        "    plt.plot(train_sizes, train_scores_mean, 'o-', color=\"r\",\n",
        "             label=\"Training score\")\n",
        "    plt.plot(train_sizes, test_scores_mean, 'o-', color=\"g\",\n",
        "             label=\"Cross-validation score\")\n",
        "\n",
        "    plt.legend(loc=\"best\")\n",
        "    return plt\n",
        "\n",
        "\n",
        "    "
      ],
      "execution_count": null,
      "outputs": []
    },
    {
      "cell_type": "markdown",
      "metadata": {
        "id": "bQHJTPJUJ__k",
        "colab_type": "text"
      },
      "source": [
        "# **Logistic Regression Model**"
      ]
    },
    {
      "cell_type": "code",
      "metadata": {
        "id": "AQbd-kQ1KGx7",
        "colab_type": "code",
        "colab": {
          "base_uri": "https://localhost:8080/",
          "height": 454
        },
        "outputId": "8fb0a4c5-01f5-4fb4-ef19-67adcfc35bf7"
      },
      "source": [
        "remove_warnings()\n",
        "################################### Logistic Regression Model\n",
        "from sklearn.linear_model import LogisticRegression\n",
        "from sklearn.linear_model import LogisticRegressionCV\n",
        "classifier = LogisticRegression(random_state = 123)\n",
        "classifier.fit(X_train,y_train)\n",
        "\n",
        "# Prediction\n",
        "y_pred = classifier.predict_proba(X_test)[::,1]\n",
        "\n",
        "######################### Evaluation Measures\n",
        "#  Calculation\n",
        "clac(y_pred, y_test, \"Logistic Regression\")\n",
        "# Cross Validation Result\n",
        "#cross_validation(classifier, X_train, y_train,\"Logistic Regression\")\n",
        "#ROC Curve\n",
        "#ROC_crossValidation(classifier,X_train, y_train,\"Logistic Regression\")\n",
        "# PR Curve\n",
        "#PRC_crossValidation(classifier,X_train, y_train,\"Logistic Regression\")\n"
      ],
      "execution_count": null,
      "outputs": [
        {
          "output_type": "stream",
          "text": [
            "Classifier name:  Logistic Regression\n",
            "              precision    recall  f1-score   support\n",
            "\n",
            "           0       1.00      0.07      0.13        89\n",
            "           1       0.57      1.00      0.73       111\n",
            "\n",
            "    accuracy                           0.58       200\n",
            "   macro avg       0.79      0.53      0.43       200\n",
            "weighted avg       0.76      0.58      0.46       200\n",
            "\n"
          ],
          "name": "stdout"
        },
        {
          "output_type": "display_data",
          "data": {
            "image/png": "[encoded data removed]",
            "text/plain": [
              "<Figure size 432x288 with 2 Axes>"
            ]
          },
          "metadata": {
            "tags": []
          }
        }
      ]
    },
    {
      "cell_type": "markdown",
      "metadata": {
        "id": "EmaNlP71KJab",
        "colab_type": "text"
      },
      "source": [
        "# **Decision Tree Model**"
      ]
    },
    {
      "cell_type": "code",
      "metadata": {
        "id": "4OoyxkOrKL85",
        "colab_type": "code",
        "colab": {
          "base_uri": "https://localhost:8080/",
          "height": 454
        },
        "outputId": "815fc6c2-87a5-4da2-ffb4-0e2dfa08f8dc"
      },
      "source": [
        "remove_warnings()\n",
        "##########################################################   Decision Tree Classifier Model\n",
        "from sklearn.tree import DecisionTreeClassifier\n",
        "classifier = DecisionTreeClassifier(criterion = 'entropy', random_state = 0)\n",
        "classifier.fit(X_train,y_train)\n",
        "# Prediction\n",
        "y_pred = classifier.predict_proba(X_test)[::,1]\n",
        "\n",
        "######################### Evaluation Measures\n",
        "#  Calculation\n",
        "clac(y_pred, y_test, \"Decision Tree\")\n",
        "# Cross Validation Result\n",
        "#cross_validation(classifier, X_train, y_train,\"Decision Tree\")\n",
        "#ROC Curve\n",
        "#ROC_crossValidation(classifier,X_train, y_train,\"Decision Tree\")\n",
        "# PR Curve\n",
        "#PRC_crossValidation(classifier,X_train, y_train,\"Decision Tree\")\n",
        "\n",
        "\n",
        "##################################### Learning Curve\n",
        "\n",
        "# Cross validation with 100 iterations to get smoother mean test and train\n",
        "# score curves, each time with 20% data randomly selected as a validation set.\n",
        "#cv = ShuffleSplit(n_splits=10, test_size=0.2, random_state=0)\n",
        "#estimator = classifier\n",
        "#plot_learning_curve(estimator, \"Learning Curves (Decision Tree)\", X, y, ylim=(0.7, 1.01), cv=cv, n_jobs=4)\n",
        "#plt.show()"
      ],
      "execution_count": null,
      "outputs": [
        {
          "output_type": "stream",
          "text": [
            "Classifier name:  Decision Tree\n",
            "              precision    recall  f1-score   support\n",
            "\n",
            "           0       0.67      0.25      0.36        89\n",
            "           1       0.60      0.90      0.72       111\n",
            "\n",
            "    accuracy                           0.61       200\n",
            "   macro avg       0.63      0.57      0.54       200\n",
            "weighted avg       0.63      0.61      0.56       200\n",
            "\n"
          ],
          "name": "stdout"
        },
        {
          "output_type": "display_data",
          "data": {
            "image/png": "[encoded data removed]",
            "text/plain": [
              "<Figure size 432x288 with 2 Axes>"
            ]
          },
          "metadata": {
            "tags": []
          }
        }
      ]
    },
    {
      "cell_type": "markdown",
      "metadata": {
        "id": "qb_8iUzxKTxd",
        "colab_type": "text"
      },
      "source": [
        "# **Random Forest Model**"
      ]
    },
    {
      "cell_type": "code",
      "metadata": {
        "id": "x9TUvpvOKXVS",
        "colab_type": "code",
        "colab": {
          "base_uri": "https://localhost:8080/",
          "height": 454
        },
        "outputId": "fb606bfa-d63e-49a3-e375-616530502c5b"
      },
      "source": [
        "remove_warnings()\n",
        "########################################### Random Forest Classifier Model\n",
        "from sklearn.ensemble import RandomForestClassifier\n",
        "classifier = RandomForestClassifier(n_estimators=100, criterion ='entropy', random_state = 0)\n",
        "classifier.fit(X_train,y_train)\n",
        "# Prediction\n",
        "y_pred = classifier.predict_proba(X_test)[::,1]\n",
        "\n",
        "\n",
        "######################### Evaluation Measures\n",
        "#  Calculation\n",
        "clac(y_pred, y_test, \"Random Forest\")\n",
        "# Cross Validation Result\n",
        "#cross_validation(classifier, X_train, y_train,\"Random Forest\")\n",
        "#ROC Curve\n",
        "#ROC_crossValidation(classifier,X_train, y_train,\"Random Forest\")\n",
        "# PR Curve\n",
        "#PRC_crossValidation(classifier,X_train, y_train,\"Random Forest\")\n",
        "\n",
        "##################################### Learning Curve\n",
        "\n",
        "# Cross validation with 100 iterations to get smoother mean test and train\n",
        "# score curves, each time with 20% data randomly selected as a validation set.\n",
        "#cv = ShuffleSplit(n_splits=10, test_size=0.2, random_state=0)\n",
        "#estimator = classifier\n",
        "#plot_learning_curve(estimator, \"Learning Curves (Random Forest)\", X, y, ylim=(0.7, 1.01), cv=cv, n_jobs=4)\n",
        "#plt.show()\n",
        "\n"
      ],
      "execution_count": null,
      "outputs": [
        {
          "output_type": "stream",
          "text": [
            "Classifier name:  Random Forest\n",
            "              precision    recall  f1-score   support\n",
            "\n",
            "           0       0.88      0.40      0.55        89\n",
            "           1       0.67      0.95      0.79       111\n",
            "\n",
            "    accuracy                           0.71       200\n",
            "   macro avg       0.77      0.68      0.67       200\n",
            "weighted avg       0.76      0.71      0.68       200\n",
            "\n"
          ],
          "name": "stdout"
        },
        {
          "output_type": "display_data",
          "data": {
            "image/png": "[encoded data removed]",
            "text/plain": [
              "<Figure size 432x288 with 2 Axes>"
            ]
          },
          "metadata": {
            "tags": []
          }
        }
      ]
    },
    {
      "cell_type": "markdown",
      "metadata": {
        "id": "cDMAqVN_KacP",
        "colab_type": "text"
      },
      "source": [
        "# **Naie Bayes Model**"
      ]
    },
    {
      "cell_type": "code",
      "metadata": {
        "id": "IL6NVo8HKdRX",
        "colab_type": "code",
        "colab": {
          "base_uri": "https://localhost:8080/",
          "height": 454
        },
        "outputId": "4cc80042-7b0b-4f77-c26b-38fd1fa33192"
      },
      "source": [
        "remove_warnings()\n",
        "########################################## Naive Bayes Classifier Model\n",
        "from sklearn.naive_bayes import MultinomialNB\n",
        "classifier = MultinomialNB()\n",
        "classifier.fit(X_train,y_train)\n",
        "# Prediction\n",
        "y_pred = classifier.predict_proba(X_test)[::,1]\n",
        "\n",
        "######################### Evaluation Measures\n",
        "#  Calculation\n",
        "clac(y_pred, y_test, \"Naive Bayes\")\n",
        "# Cross Validation Result\n",
        "#cross_validation(classifier, X_train, y_train,\"Naive Bayes\")\n",
        "#ROC Curve\n",
        "#ROC_crossValidation(classifier,X_train, y_train,\"Naive Bayes\")\n",
        "# PR Curve\n",
        "#PRC_crossValidation(classifier,X_train, y_train,\"Naive Bayes\")\n",
        "\n",
        "##################################### Learning Curve\n",
        "\n",
        "# Cross validation with 100 iterations to get smoother mean test and train\n",
        "# score curves, each time with 20% data randomly selected as a validation set.\n",
        "#cv = ShuffleSplit(n_splits=10, test_size=0.2, random_state=0)\n",
        "#estimator = classifier\n",
        "#plot_learning_curve(estimator, \"Learning Curves (Multinomial Naive Bayes )\", X, y, ylim=(0.7, 1.01), cv=cv, n_jobs=4)\n",
        "#plt.show()"
      ],
      "execution_count": null,
      "outputs": [
        {
          "output_type": "stream",
          "text": [
            "Classifier name:  Naive Bayes\n",
            "              precision    recall  f1-score   support\n",
            "\n",
            "           0       0.91      0.72      0.81        89\n",
            "           1       0.81      0.95      0.87       111\n",
            "\n",
            "    accuracy                           0.84       200\n",
            "   macro avg       0.86      0.83      0.84       200\n",
            "weighted avg       0.86      0.84      0.84       200\n",
            "\n"
          ],
          "name": "stdout"
        },
        {
          "output_type": "display_data",
          "data": {
            "image/png": "[encoded data removed]",
            "text/plain": [
              "<Figure size 432x288 with 2 Axes>"
            ]
          },
          "metadata": {
            "tags": []
          }
        }
      ]
    },
    {
      "cell_type": "markdown",
      "metadata": {
        "id": "kwO1vivXKgIK",
        "colab_type": "text"
      },
      "source": [
        "# **KNN Classifier Model**"
      ]
    },
    {
      "cell_type": "code",
      "metadata": {
        "id": "WgR7HnSsKjih",
        "colab_type": "code",
        "colab": {
          "base_uri": "https://localhost:8080/",
          "height": 668
        },
        "outputId": "9b368a77-a1aa-42e9-8bc3-fc1c2b7de6db"
      },
      "source": [
        "remove_warnings()\n",
        "########################################## KNN Classifier Model\n",
        "from sklearn.neighbors import KNeighborsClassifier\n",
        "classifier = KNeighborsClassifier(n_neighbors=5, metric = 'minkowski', p=2)\n",
        "classifier.fit(X_train,y_train)\n",
        "# Prediction\n",
        "y_pred = classifier.predict(X_test)\n",
        "\n",
        "######################### Evaluation Measures\n",
        "#  Calculation\n",
        "clac(y_pred, y_test, \"K-nearest neighbor\")\n",
        "# Cross Validation Result\n",
        "#cross_validation(classifier, X_train, y_train,\"K-nearest neighbor\")\n",
        "#ROC Curve\n",
        "#ROC_crossValidation(classifier,X_train, y_train,\"K-nearest neighbor\")\n",
        "# PR Curve\n",
        "#PRC_crossValidation(classifier,X_train, y_train,\"K-nearest neighbor\")\n",
        "\n",
        "\n",
        "##################################### Learning Curve\n",
        "\n",
        "# Cross validation with 100 iterations to get smoother mean test and train\n",
        "# score curves, each time with 20% data randomly selected as a validation set.\n",
        "cv = ShuffleSplit(n_splits=10, test_size=0.2, random_state=0)\n",
        "estimator = classifier\n",
        "plot_learning_curve(estimator, \"Learning Curves (KNN Classifier)\", X, y, ylim=(0.7, 1.01), cv=cv, n_jobs=4)\n",
        "plt.show()"
      ],
      "execution_count": null,
      "outputs": [
        {
          "output_type": "stream",
          "text": [
            "Classifier name:  K-nearest neighbor\n",
            "              precision    recall  f1-score   support\n",
            "\n",
            "           0       0.81      0.25      0.38        89\n",
            "           1       0.61      0.95      0.75       111\n",
            "\n",
            "    accuracy                           0.64       200\n",
            "   macro avg       0.71      0.60      0.56       200\n",
            "weighted avg       0.70      0.64      0.58       200\n",
            "\n"
          ],
          "name": "stdout"
        },
        {
          "output_type": "error",
          "ename": "NameError",
          "evalue": "ignored",
          "traceback": [
            "\u001b[0;31m---------------------------------------------------------------------------\u001b[0m",
            "\u001b[0;31mNameError\u001b[0m                                 Traceback (most recent call last)",
            "\u001b[0;32m<ipython-input-117-952b15bb7aff>\u001b[0m in \u001b[0;36m<module>\u001b[0;34m()\u001b[0m\n\u001b[1;32m     22\u001b[0m \u001b[0;31m# Cross validation with 100 iterations to get smoother mean test and train\u001b[0m\u001b[0;34m\u001b[0m\u001b[0;34m\u001b[0m\u001b[0;34m\u001b[0m\u001b[0m\n\u001b[1;32m     23\u001b[0m \u001b[0;31m# score curves, each time with 20% data randomly selected as a validation set.\u001b[0m\u001b[0;34m\u001b[0m\u001b[0;34m\u001b[0m\u001b[0;34m\u001b[0m\u001b[0m\n\u001b[0;32m---> 24\u001b[0;31m \u001b[0mcv\u001b[0m \u001b[0;34m=\u001b[0m \u001b[0mShuffleSplit\u001b[0m\u001b[0;34m(\u001b[0m\u001b[0mn_splits\u001b[0m\u001b[0;34m=\u001b[0m\u001b[0;36m10\u001b[0m\u001b[0;34m,\u001b[0m \u001b[0mtest_size\u001b[0m\u001b[0;34m=\u001b[0m\u001b[0;36m0.2\u001b[0m\u001b[0;34m,\u001b[0m \u001b[0mrandom_state\u001b[0m\u001b[0;34m=\u001b[0m\u001b[0;36m0\u001b[0m\u001b[0;34m)\u001b[0m\u001b[0;34m\u001b[0m\u001b[0;34m\u001b[0m\u001b[0m\n\u001b[0m\u001b[1;32m     25\u001b[0m \u001b[0mestimator\u001b[0m \u001b[0;34m=\u001b[0m \u001b[0mclassifier\u001b[0m\u001b[0;34m\u001b[0m\u001b[0;34m\u001b[0m\u001b[0m\n\u001b[1;32m     26\u001b[0m \u001b[0mplot_learning_curve\u001b[0m\u001b[0;34m(\u001b[0m\u001b[0mestimator\u001b[0m\u001b[0;34m,\u001b[0m \u001b[0;34m\"Learning Curves (KNN Classifier)\"\u001b[0m\u001b[0;34m,\u001b[0m \u001b[0mX\u001b[0m\u001b[0;34m,\u001b[0m \u001b[0my\u001b[0m\u001b[0;34m,\u001b[0m \u001b[0mylim\u001b[0m\u001b[0;34m=\u001b[0m\u001b[0;34m(\u001b[0m\u001b[0;36m0.7\u001b[0m\u001b[0;34m,\u001b[0m \u001b[0;36m1.01\u001b[0m\u001b[0;34m)\u001b[0m\u001b[0;34m,\u001b[0m \u001b[0mcv\u001b[0m\u001b[0;34m=\u001b[0m\u001b[0mcv\u001b[0m\u001b[0;34m,\u001b[0m \u001b[0mn_jobs\u001b[0m\u001b[0;34m=\u001b[0m\u001b[0;36m4\u001b[0m\u001b[0;34m)\u001b[0m\u001b[0;34m\u001b[0m\u001b[0;34m\u001b[0m\u001b[0m\n",
            "\u001b[0;31mNameError\u001b[0m: name 'ShuffleSplit' is not defined"
          ]
        },
        {
          "output_type": "display_data",
          "data": {
            "image/png": "[encoded data removed]",
            "text/plain": [
              "<Figure size 432x288 with 2 Axes>"
            ]
          },
          "metadata": {
            "tags": []
          }
        }
      ]
    },
    {
      "cell_type": "markdown",
      "metadata": {
        "id": "BDIkvIDSKn3R",
        "colab_type": "text"
      },
      "source": [
        "# **Linear SVM Model**"
      ]
    },
    {
      "cell_type": "code",
      "metadata": {
        "id": "5MrkYzXdKrGb",
        "colab_type": "code",
        "colab": {
          "base_uri": "https://localhost:8080/",
          "height": 454
        },
        "outputId": "ce9a20a2-e166-458b-d5ba-5ccb1822769d"
      },
      "source": [
        "remove_warnings()\n",
        "########################################## Linear SVM Classifier Model\n",
        "from sklearn.svm import SVC\n",
        "classifier = SVC(kernel = 'linear',probability=True, random_state = 0)\n",
        "classifier.fit(X_train,y_train)\n",
        "# Prediction\n",
        "y_pred = classifier.predict_proba(X_test)[::,1]\n",
        "\n",
        "######################### Evaluation Measures\n",
        "#  Calculation\n",
        "clac(y_pred, y_test, \"Linear Support Vector Machine\")\n",
        "# Cross Validation Result\n",
        "#cross_validation(classifier, X_train, y_train,\"Linear Support Vector Machine\")\n",
        "#ROC Curve\n",
        "#ROC_crossValidation(classifier,X_train, y_train,\"Linear Support Vector Machine\")\n",
        "# PR Curve\n",
        "#PRC_crossValidation(classifier,X_train, y_train,\"Linear Support Vector Machine\")\n",
        "\n",
        "##################################### Learning Curve\n",
        "\n",
        "# Cross validation with 100 iterations to get smoother mean test and train\n",
        "# score curves, each time with 20% data randomly selected as a validation set.\n",
        "#cv = ShuffleSplit(n_splits=10, test_size=0.2, random_state=0)\n",
        "#estimator = classifier\n",
        "#plot_learning_curve(estimator, \"Learning Curves (Linear SVM)\", X, y, ylim=(0.7, 1.01), cv=cv, n_jobs=4)\n",
        "#plt.show()"
      ],
      "execution_count": null,
      "outputs": [
        {
          "output_type": "stream",
          "text": [
            "Classifier name:  Linear Support Vector Machine\n",
            "              precision    recall  f1-score   support\n",
            "\n",
            "           0       0.60      0.93      0.73        89\n",
            "           1       0.90      0.50      0.64       111\n",
            "\n",
            "    accuracy                           0.69       200\n",
            "   macro avg       0.75      0.71      0.68       200\n",
            "weighted avg       0.77      0.69      0.68       200\n",
            "\n"
          ],
          "name": "stdout"
        },
        {
          "output_type": "display_data",
          "data": {
            "image/png": "[encoded data removed]",
            "text/plain": [
              "<Figure size 432x288 with 2 Axes>"
            ]
          },
          "metadata": {
            "tags": []
          }
        }
      ]
    },
    {
      "cell_type": "markdown",
      "metadata": {
        "id": "UgRQk-2yKuv5",
        "colab_type": "text"
      },
      "source": [
        "# **Kernel SVM Model**"
      ]
    },
    {
      "cell_type": "code",
      "metadata": {
        "id": "7fDiv2GAKxzN",
        "colab_type": "code",
        "colab": {
          "base_uri": "https://localhost:8080/",
          "height": 454
        },
        "outputId": "c981c10a-f001-44a2-ac08-0f7d7d3056e2"
      },
      "source": [
        "remove_warnings()\n",
        "########################################## Kernel SVM Classifier Model\n",
        "from sklearn.svm import SVC\n",
        "classifier = SVC(C= 1000,kernel = 'rbf',probability=True, gamma = 0.0001, random_state = 0)\n",
        "classifier.fit(X_train,y_train)\n",
        "# Prediction\n",
        "y_pred = classifier.predict_proba(X_test)[::,1]\n",
        "\n",
        "######################### Evaluation Measures\n",
        "#  Calculation\n",
        "clac(y_pred, y_test, \"RBF Support Vector Machine\")\n",
        "# Cross Validation Result\n",
        "#cross_validation(classifier, X_train, y_train,\"RBF Support Vector Machine\")\n",
        "#ROC Curve\n",
        "#ROC_crossValidation(classifier,X_train, y_train,\"RBF Support Vector Machine\")\n",
        "# PR Curve\n",
        "#PRC_crossValidation(classifier,X_train, y_train,\"RBF Support Vector Machine\")\n",
        "\n",
        "\n",
        "##################################### Learning Curve\n",
        "\n",
        "# Cross validation with 100 iterations to get smoother mean test and train\n",
        "# score curves, each time with 20% data randomly selected as a validation set.\n",
        "#cv = ShuffleSplit(n_splits=10, test_size=0.2, random_state=0)\n",
        "#estimator = classifier\n",
        "#plot_learning_curve(estimator, \"Learning Curves (Kernel SVM)\", X, y, ylim=(0.7, 1.01), cv=cv, n_jobs=4)\n",
        "#plt.show()"
      ],
      "execution_count": null,
      "outputs": [
        {
          "output_type": "stream",
          "text": [
            "Classifier name:  RBF Support Vector Machine\n",
            "              precision    recall  f1-score   support\n",
            "\n",
            "           0       0.58      0.93      0.72        89\n",
            "           1       0.90      0.47      0.62       111\n",
            "\n",
            "    accuracy                           0.68       200\n",
            "   macro avg       0.74      0.70      0.67       200\n",
            "weighted avg       0.76      0.68      0.66       200\n",
            "\n"
          ],
          "name": "stdout"
        },
        {
          "output_type": "display_data",
          "data": {
            "image/png": "[encoded data removed]",
            "text/plain": [
              "<Figure size 432x288 with 2 Axes>"
            ]
          },
          "metadata": {
            "tags": []
          }
        }
      ]
    },
    {
      "cell_type": "markdown",
      "metadata": {
        "id": "k8LE-d4EK0WP",
        "colab_type": "text"
      },
      "source": [
        "# **SGD Classifier**"
      ]
    },
    {
      "cell_type": "code",
      "metadata": {
        "id": "hYi92BpHK21E",
        "colab_type": "code",
        "colab": {
          "base_uri": "https://localhost:8080/",
          "height": 508
        },
        "outputId": "bee1ee22-cbde-4981-ea56-7b1a8aaa3c53"
      },
      "source": [
        "\n",
        "################################################# SGD Classifier Model\n",
        "from sklearn.linear_model import SGDClassifier\n",
        "classifier = SGDClassifier(loss=\"log\", penalty=\"l2\", max_iter=5)\n",
        "classifier.fit(X_train, y_train)  \n",
        "# Prediction\n",
        "y_pred = classifier.predict_proba(X_test)[::,1]\n",
        "\n",
        "######################### Evaluation Measures\n",
        "#  Calculation\n",
        "clac(y_pred, y_test, \"Stochastic Gradient Descent\")\n",
        "# Cross Validation Result\n",
        "#cross_validation(classifier, X_train, y_train,\"Stochastic Gradient Descent\")\n",
        "#ROC Curve\n",
        "#ROC_crossValidation(classifier,X_train, y_train,\"Stochastic Gradient Descent\")\n",
        "# PR Curve\n",
        "#PRC_crossValidation(classifier,X_train, y_train,\"Stochastic Gradient Descent\")\n",
        "remove_warnings()\n",
        "\n",
        "\n",
        "##################################### Learning Curve\n",
        "\n",
        "# Cross validation with 100 iterations to get smoother mean test and train\n",
        "# score curves, each time with 20% data randomly selected as a validation set.\n",
        "#cv = ShuffleSplit(n_splits=10, test_size=0.2, random_state=0)\n",
        "#estimator = classifier\n",
        "#plot_learning_curve(estimator, \"Learning Curves (SGD Classifier)\", X, y, ylim=(0.7, 1.01), cv=cv, n_jobs=4)\n",
        "#plt.show()"
      ],
      "execution_count": null,
      "outputs": [
        {
          "output_type": "stream",
          "text": [
            "/usr/local/lib/python3.6/dist-packages/sklearn/linear_model/stochastic_gradient.py:561: ConvergenceWarning: Maximum number of iteration reached before convergence. Consider increasing max_iter to improve the fit.\n",
            "  ConvergenceWarning)\n"
          ],
          "name": "stderr"
        },
        {
          "output_type": "stream",
          "text": [
            "Classifier name:  Stochastic Gradient Descent\n",
            "              precision    recall  f1-score   support\n",
            "\n",
            "           0       1.00      0.07      0.13        89\n",
            "           1       0.57      1.00      0.73       111\n",
            "\n",
            "    accuracy                           0.58       200\n",
            "   macro avg       0.79      0.53      0.43       200\n",
            "weighted avg       0.76      0.58      0.46       200\n",
            "\n"
          ],
          "name": "stdout"
        },
        {
          "output_type": "display_data",
          "data": {
            "image/png": "[encoded data removed]",
            "text/plain": [
              "<Figure size 432x288 with 2 Axes>"
            ]
          },
          "metadata": {
            "tags": []
          }
        }
      ]
    },
    {
      "cell_type": "markdown",
      "metadata": {
        "id": "83obAzGSLKfK",
        "colab_type": "text"
      },
      "source": [
        "# **ROC Curve**"
      ]
    },
    {
      "cell_type": "code",
      "metadata": {
        "id": "swHB5vQ7LMn7",
        "colab_type": "code",
        "colab": {
          "base_uri": "https://localhost:8080/",
          "height": 312
        },
        "outputId": "801536f9-fbe5-4c33-c868-adfa2129d9df"
      },
      "source": [
        "# ROC curve\n",
        "from sklearn.metrics import average_precision_score,roc_auc_score, roc_curve, precision_recall_curve\n",
        "auc = roc_auc_score(y_test, y_pred)\n",
        "print('AUC: %.3f' % auc)\n",
        "# calculate roc curve\n",
        "fpr, tpr,_ = roc_curve(y_test, y_pred)\n",
        "plt.figure()\n",
        "plt.plot(fpr, tpr, color='darkorange', lw=1, label='ROC curve (area = %0.2f)' % auc)\n",
        "plt.plot([0, 1], [0, 1], color='navy',linestyle='--')\n",
        "plt.xlim([0.0, 1.0])\n",
        "plt.ylim([0.0, 1.05])\n",
        "plt.xlabel('False Positive Rate')\n",
        "plt.ylabel('True Positive Rate')\n",
        "plt.title('Receiver operating characteristic')\n",
        "plt.legend(loc=\"lower right\")\n",
        "plt.show()"
      ],
      "execution_count": null,
      "outputs": [
        {
          "output_type": "stream",
          "text": [
            "AUC: 0.875\n"
          ],
          "name": "stdout"
        },
        {
          "output_type": "display_data",
          "data": {
            "image/png": "[encoded data removed]",
            "text/plain": [
              "<Figure size 432x288 with 1 Axes>"
            ]
          },
          "metadata": {
            "tags": []
          }
        }
      ]
    },
    {
      "cell_type": "markdown",
      "metadata": {
        "id": "3mIhS1DNLPax",
        "colab_type": "text"
      },
      "source": [
        "# **Precision Recall Curve**"
      ]
    },
    {
      "cell_type": "code",
      "metadata": {
        "id": "60DzMRYnLSQj",
        "colab_type": "code",
        "colab": {
          "base_uri": "https://localhost:8080/",
          "height": 312
        },
        "outputId": "0dbd9063-50e3-4972-edf1-4ac8c50d531c"
      },
      "source": [
        "#Using Precision - Recall Curve\n",
        "\n",
        "average_precision = average_precision_score(y_test, y_pred)\n",
        "\n",
        "print('Average precision-recall score RF: {}'.format(average_precision))\n",
        "\n",
        "precision, recall, thresholds = precision_recall_curve(y_test, y_pred)\n",
        "\n",
        "plt.figure()\n",
        "plt.plot(recall, precision, color='darkorange', lw=1, label='Average Precision Score (ap = %0.2f)' % average_precision)\n",
        "\n",
        "plt.xlim([0.0, 1.0])\n",
        "plt.ylim([0.0, 1.05])\n",
        "plt.xlabel('Recall')\n",
        "plt.ylabel('Precision')\n",
        "plt.title('Precision-Recall Curve')\n",
        "plt.legend(loc=\"lower right\")\n",
        "plt.show()"
      ],
      "execution_count": null,
      "outputs": [
        {
          "output_type": "stream",
          "text": [
            "Average precision-recall score RF: 0.8978270680491593\n"
          ],
          "name": "stdout"
        },
        {
          "output_type": "display_data",
          "data": {
            "image/png": "[encoded data removed]",
            "text/plain": [
              "<Figure size 432x288 with 1 Axes>"
            ]
          },
          "metadata": {
            "tags": []
          }
        }
      ]
    },
    {
      "cell_type": "markdown",
      "metadata": {
        "id": "tUylUdXOL1rA",
        "colab_type": "text"
      },
      "source": [
        "# **Grid Search for selecting best model**"
      ]
    },
    {
      "cell_type": "code",
      "metadata": {
        "id": "xIv0zuibL82d",
        "colab_type": "code",
        "colab": {}
      },
      "source": [
        "# Grid Search\n",
        "from sklearn.model_selection import GridSearchCV    \n",
        "parameters = [{'C':[1,10,100,1000],'kernel':['linear']}, \n",
        "               {'C':[1,10,100,1000],'kernel':['rbf'],'gamma':[0.0007,0.1,0.0001,0.000001]}]\n",
        "grid_search = GridSearchCV(estimator=classifier,param_grid = parameters, \n",
        "                           scoring = 'accuracy', cv =10, n_jobs = -1)\n",
        "grid_search = grid_search.fit(X_train,y_train)\n",
        "best_accuracy = grid_search.best_score_\n",
        "best_parameters = grid_search.best_params_"
      ],
      "execution_count": null,
      "outputs": []
    },
    {
      "cell_type": "markdown",
      "metadata": {
        "id": "rXb5yEt3q0oI",
        "colab_type": "text"
      },
      "source": [
        "# **Drawing multiple ROC-Curves in a single plot**"
      ]
    },
    {
      "cell_type": "code",
      "metadata": {
        "id": "0OCEWmSHq5gY",
        "colab_type": "code",
        "colab": {}
      },
      "source": [
        "# Import the classifiers\n",
        "from sklearn.linear_model import LogisticRegression\n",
        "from sklearn.naive_bayes import MultinomialNB\n",
        "from sklearn.neighbors import KNeighborsClassifier\n",
        "from sklearn.tree import DecisionTreeClassifier\n",
        "from sklearn.ensemble import RandomForestClassifier\n",
        "from sklearn.svm import SVC\n",
        "from sklearn.linear_model import SGDClassifier\n",
        "\n",
        "\n",
        "from sklearn.metrics import roc_curve, roc_auc_score\n",
        "\n",
        "# Instantiate the classfiers and make a list\n",
        "classifiers = [LogisticRegression(random_state=0), \n",
        "               MultinomialNB(), \n",
        "               #KNeighborsClassifier(n_neighbors=5, metric = 'minkowski', p=2), \n",
        "               #DecisionTreeClassifier(criterion = 'entropy', random_state = 0),\n",
        "               #RandomForestClassifier(n_estimators=10, criterion ='entropy', random_state = 0),\n",
        "               SVC(kernel = 'linear',probability=True, random_state = 0),\n",
        "               #SVC(C=1000,kernel = 'rbf',probability=True, gamma = 0.0001, random_state = 0),\n",
        "               SGDClassifier(loss=\"log\", penalty=\"l2\", max_iter=15)]\n",
        "\n",
        "# Define a result table as a DataFrame\n",
        "result_table = pd.DataFrame(columns=['classifiers', 'fpr','tpr','auc'])\n",
        "\n",
        "# Train the models and record the results\n",
        "for cls in classifiers:\n",
        "    model = cls.fit(X_train, y_train)\n",
        "    y_pred = model.predict_proba(X_test)[::,1]\n",
        "    \n",
        "    fpr, tpr, _ = roc_curve(y_test, y_pred)\n",
        "    \n",
        "    auc = roc_auc_score(y_test, y_pred)\n",
        "    \n",
        "    result_table = result_table.append({'classifiers':cls.__class__.__name__,\n",
        "                                        'fpr':fpr, \n",
        "                                        'tpr':tpr, \n",
        "                                        'auc':auc}, ignore_index=True)\n",
        "\n",
        "# Set name of the classifiers as index labels\n",
        "result_table.set_index('classifiers', inplace=True)"
      ],
      "execution_count": null,
      "outputs": []
    },
    {
      "cell_type": "markdown",
      "metadata": {
        "id": "eaBSxa6JsHBt",
        "colab_type": "text"
      },
      "source": [
        "# **Plot the Figure**"
      ]
    },
    {
      "cell_type": "code",
      "metadata": {
        "id": "mNrI0bNbsMPf",
        "colab_type": "code",
        "colab": {
          "base_uri": "https://localhost:8080/",
          "height": 406
        },
        "outputId": "ac48acb1-5a2c-4c91-e792-d29f9ad48cfc"
      },
      "source": [
        "fig = plt.figure(figsize=(8,6))\n",
        "\n",
        "for i in result_table.index:\n",
        "    plt.plot(result_table.loc[i]['fpr'], \n",
        "             result_table.loc[i]['tpr'], \n",
        "             label=\"{}, AUC={:.3f}\".format(i, result_table.loc[i]['auc']))\n",
        "    \n",
        "plt.plot([0,1], [0,1], color='orange', linestyle='--')\n",
        "\n",
        "plt.xticks(np.arange(0.0, 1.1, step=0.1))\n",
        "plt.xlabel(\"False Positive Rate\", fontsize=12)\n",
        "\n",
        "plt.yticks(np.arange(0.0, 1.1, step=0.1))\n",
        "plt.ylabel(\"True Positive Rate\", fontsize=12)\n",
        "\n",
        "plt.title('ROC Curve Analysis for Trigram features', fontweight='bold', fontsize=12)\n",
        "plt.legend(prop={'size':13}, loc='lower right')\n",
        "\n",
        "plt.show()"
      ],
      "execution_count": null,
      "outputs": [
        {
          "output_type": "display_data",
          "data": {
            "image/png": "[encoded data removed]",
            "text/plain": [
              "<Figure size 576x432 with 1 Axes>"
            ]
          },
          "metadata": {
            "tags": [],
            "needs_background": "light"
          }
        }
      ]
    },
    {
      "cell_type": "markdown",
      "metadata": {
        "id": "AGgPTzlkSoBG",
        "colab_type": "text"
      },
      "source": [
        "# **Drawing Multiple PR-curves in a single plot**"
      ]
    },
    {
      "cell_type": "code",
      "metadata": {
        "id": "wfj_d1VZSxlF",
        "colab_type": "code",
        "colab": {}
      },
      "source": [
        "# Import the classifiers\n",
        "from sklearn.linear_model import LogisticRegression\n",
        "from sklearn.naive_bayes import MultinomialNB\n",
        "from sklearn.neighbors import KNeighborsClassifier\n",
        "from sklearn.tree import DecisionTreeClassifier\n",
        "from sklearn.ensemble import RandomForestClassifier\n",
        "\n",
        "from sklearn.metrics import average_precision_score,roc_auc_score, roc_curve, precision_recall_curve\n",
        "\n",
        "# Instantiate the classfiers and make a list\n",
        "classifiers = [LogisticRegression(random_state=0), \n",
        "               MultinomialNB(), \n",
        "               #KNeighborsClassifier(n_neighbors=5, metric = 'minkowski', p=2), \n",
        "               #DecisionTreeClassifier(criterion = 'entropy', random_state = 0),\n",
        "               #RandomForestClassifier(n_estimators=10, criterion ='entropy', random_state = 0),\n",
        "               SVC(kernel = 'linear',probability=True, random_state = 0),\n",
        "               #SVC(C=1000,kernel = 'rbf',probability=True, gamma = 0.0001, random_state = 0),\n",
        "               SGDClassifier(loss=\"log\", penalty=\"l2\", max_iter=15)]\n",
        "\n",
        "# Define a result table as a DataFrame\n",
        "result_table = pd.DataFrame(columns=['classifiers', 'precision','recall','AP'])\n",
        "\n",
        "# Train the models and record the results\n",
        "for cls in classifiers:\n",
        "    model = cls.fit(X_train, y_train)\n",
        "    y_pred = model.predict_proba(X_test)[::,1]\n",
        "    \n",
        "    precision, recall,_ = precision_recall_curve(y_test, y_pred)\n",
        "    \n",
        "    average_precision = average_precision_score(y_test, y_pred)\n",
        "    \n",
        "    result_table = result_table.append({'classifiers':cls.__class__.__name__,\n",
        "                                        'precision':precision, \n",
        "                                        'recall':recall, \n",
        "                                        'AP': average_precision}, ignore_index=True)\n",
        "\n",
        "# Set name of the classifiers as index labels\n",
        "result_table.set_index('classifiers', inplace=True)"
      ],
      "execution_count": null,
      "outputs": []
    },
    {
      "cell_type": "markdown",
      "metadata": {
        "id": "KrWFQgkPTuyc",
        "colab_type": "text"
      },
      "source": [
        "# **Plot the Figure**"
      ]
    },
    {
      "cell_type": "code",
      "metadata": {
        "id": "_Nf5e9zITyB2",
        "colab_type": "code",
        "colab": {
          "base_uri": "https://localhost:8080/",
          "height": 406
        },
        "outputId": "669b77cd-b6fa-44da-df58-0988788f005e"
      },
      "source": [
        "fig = plt.figure(figsize=(8,6))\n",
        "\n",
        "for i in result_table.index:\n",
        "    plt.plot(result_table.loc[i]['recall'], \n",
        "             result_table.loc[i]['precision'], \n",
        "             label=\"{}, AP={:.3f}\".format(i, result_table.loc[i]['AP']))\n",
        "    \n",
        "plt.plot([0,1], [0,1], color='orange', linestyle='--')\n",
        "\n",
        "plt.xticks(np.arange(0.0, 1.1, step=0.1))\n",
        "plt.xlabel(\"Recall\", fontsize=12)\n",
        "\n",
        "plt.yticks(np.arange(0.0, 1.1, step=0.1))\n",
        "plt.ylabel(\"Precision\", fontsize=12)\n",
        "\n",
        "plt.title('PR Curve Analysis for Trigram features', fontweight='bold', fontsize=12)\n",
        "plt.legend(prop={'size':13}, loc='lower right')\n",
        "\n",
        "plt.show()"
      ],
      "execution_count": null,
      "outputs": [
        {
          "output_type": "display_data",
          "data": {
            "image/png": "[encoded data removed]",
            "text/plain": [
              "<Figure size 576x432 with 1 Axes>"
            ]
          },
          "metadata": {
            "tags": [],
            "needs_background": "light"
          }
        }
      ]
    },
    {
      "cell_type": "markdown",
      "metadata": {
        "id": "TCWK7EhsTAuq",
        "colab_type": "text"
      },
      "source": [
        "# **Box Plot**"
      ]
    },
    {
      "cell_type": "code",
      "metadata": {
        "id": "XuAXoBtPTEDV",
        "colab_type": "code",
        "colab": {
          "base_uri": "https://localhost:8080/",
          "height": 648
        },
        "outputId": "0002a7cb-49bf-42f1-cf0b-45bbbd3a4c7b"
      },
      "source": [
        "remove_warnings()\n",
        "from sklearn.linear_model import LogisticRegression\n",
        "from sklearn.naive_bayes import MultinomialNB\n",
        "from sklearn.naive_bayes import GaussianNB\n",
        "from sklearn.neighbors import KNeighborsClassifier\n",
        "from sklearn.tree import DecisionTreeClassifier\n",
        "from sklearn.ensemble import RandomForestClassifier\n",
        "from sklearn.svm import SVC\n",
        "from sklearn.linear_model import SGDClassifier\n",
        "import seaborn as sns\n",
        "from sklearn.model_selection import cross_val_score\n",
        "\n",
        "# prepare configuration for cross validation test harness\n",
        "seed = 7\n",
        "# prepare models\n",
        "models = []\n",
        "models.append(('LR', LogisticRegression(random_state=0)))\n",
        "models.append(('KNN', KNeighborsClassifier(n_neighbors=3, metric = 'minkowski', p=2)))\n",
        "models.append(('DT', DecisionTreeClassifier(criterion = 'entropy', random_state = 0)))\n",
        "models.append(('RF', RandomForestClassifier(n_estimators=5, criterion ='entropy', random_state = 0)))\n",
        "models.append(('MNB', MultinomialNB()))\n",
        "models.append(('SVM', SVC(kernel = 'linear',probability=True, random_state = 0)))\n",
        "models.append(('SGD', SGDClassifier(loss=\"log\", penalty=\"l2\", max_iter=1000)))\n",
        "\n",
        "# evaluate each model in turn\n",
        "results = []\n",
        "names = []\n",
        "scoring = 'accuracy'\n",
        "for name, model in models:\n",
        "\t#kfold = model_selection.KFold(n_splits=10, random_state=seed)\n",
        "\tcv_results = cross_val_score(model, X_train, y_train, cv=10, scoring=scoring)\n",
        "\tresults.append(cv_results)\n",
        "\tnames.append(name)\n",
        "\tmsg = \"%s: %0.2f (%f)\" % (name, cv_results.mean(), cv_results.std())\n",
        "\tprint(msg)\n",
        "# boxplot algorithm comparison\n",
        "#plt.figure(figsize=(20,10))\n",
        "fig = plt.figure(figsize=(10,7))\n",
        "plt.title('Cross validation performance for Tri-gram feature')\n",
        "plt.xlabel('Algorithms')\n",
        "plt.ylabel('Accuracy')\n",
        "ax = fig.add_subplot(111)\n",
        "plt.boxplot(results)\n",
        "ax.set_xticklabels(names)\n",
        "plt.show()\n",
        "#plt.savefig('result.png')"
      ],
      "execution_count": null,
      "outputs": [
        {
          "output_type": "stream",
          "text": [
            "LR: 0.56 (0.012251)\n",
            "KNN: 0.50 (0.020220)\n",
            "DT: 0.55 (0.010829)\n",
            "RF: 0.56 (0.017035)\n",
            "MNB: 0.58 (0.022517)\n",
            "SVM: 0.63 (0.044435)\n",
            "SGD: 0.58 (0.044660)\n"
          ],
          "name": "stdout"
        },
        {
          "output_type": "stream",
          "text": [
            "/usr/local/lib/python3.6/dist-packages/matplotlib/figure.py:98: MatplotlibDeprecationWarning: \n",
            "Adding an axes using the same arguments as a previous axes currently reuses the earlier instance.  In a future version, a new instance will always be created and returned.  Meanwhile, this warning can be suppressed, and the future behavior ensured, by passing a unique label to each axes instance.\n",
            "  \"Adding an axes using the same arguments as a previous axes \"\n"
          ],
          "name": "stderr"
        },
        {
          "output_type": "display_data",
          "data": {
            "image/png": "[encoded data removed]",
            "text/plain": [
              "<Figure size 720x504 with 1 Axes>"
            ]
          },
          "metadata": {
            "tags": []
          }
        }
      ]
    }
  ]
}